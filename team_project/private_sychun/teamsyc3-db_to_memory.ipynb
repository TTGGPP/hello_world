{
 "cells": [
  {
   "cell_type": "markdown",
   "metadata": {},
   "source": [
    "## DB에서 데이터 불러오기"
   ]
  },
  {
   "cell_type": "code",
   "execution_count": 9,
   "metadata": {},
   "outputs": [],
   "source": [
    "import numpy as np\n",
    "import pandas as pd\n",
    "import cx_Oracle"
   ]
  },
  {
   "cell_type": "code",
   "execution_count": 10,
   "metadata": {},
   "outputs": [],
   "source": [
    "def get_data_from_db(query):\n",
    "    conn = cx_Oracle.connect('hoseo', 'hoseo', 'localhost:1521/xe')\n",
    "    df = pd.read_sql(query, conn)\n",
    "    conn.close()\n",
    "    return df"
   ]
  },
  {
   "cell_type": "code",
   "execution_count": 11,
   "metadata": {},
   "outputs": [],
   "source": [
    "query = \"\"\"\n",
    "    SELECT *\n",
    "    FROM APT_DEAL_PRICE\n",
    "    WHERE APT_size < 80\n",
    "    \"\"\""
   ]
  },
  {
   "cell_type": "code",
   "execution_count": 12,
   "metadata": {
    "tags": []
   },
   "outputs": [
    {
     "name": "stdout",
     "output_type": "stream",
     "text": [
      "<class 'pandas.core.frame.DataFrame'>\n",
      "RangeIndex: 2440205 entries, 0 to 2440204\n",
      "Data columns (total 11 columns):\n",
      " #   Column           Dtype         \n",
      "---  ------           -----         \n",
      " 0   APT_ID           int64         \n",
      " 1   REGION           object        \n",
      " 2   REGION_SUB       object        \n",
      " 3   APT_NAME         object        \n",
      " 4   APT_SIZE         float64       \n",
      " 5   APT_FLOOR        int64         \n",
      " 6   CONTRACT_DATE    datetime64[ns]\n",
      " 7   CONTRACT_PRICE   int64         \n",
      " 8   COMPLETION_YEAR  int64         \n",
      " 9   STREET_NUM       object        \n",
      " 10  STREET_NAME      object        \n",
      "dtypes: datetime64[ns](1), float64(1), int64(4), object(5)\n",
      "memory usage: 204.8+ MB\n"
     ]
    },
    {
     "data": {
      "text/html": [
       "<div>\n",
       "<style scoped>\n",
       "    .dataframe tbody tr th:only-of-type {\n",
       "        vertical-align: middle;\n",
       "    }\n",
       "\n",
       "    .dataframe tbody tr th {\n",
       "        vertical-align: top;\n",
       "    }\n",
       "\n",
       "    .dataframe thead th {\n",
       "        text-align: right;\n",
       "    }\n",
       "</style>\n",
       "<table border=\"1\" class=\"dataframe\">\n",
       "  <thead>\n",
       "    <tr style=\"text-align: right;\">\n",
       "      <th></th>\n",
       "      <th>APT_ID</th>\n",
       "      <th>REGION</th>\n",
       "      <th>REGION_SUB</th>\n",
       "      <th>APT_NAME</th>\n",
       "      <th>APT_SIZE</th>\n",
       "      <th>APT_FLOOR</th>\n",
       "      <th>CONTRACT_DATE</th>\n",
       "      <th>CONTRACT_PRICE</th>\n",
       "      <th>COMPLETION_YEAR</th>\n",
       "      <th>STREET_NUM</th>\n",
       "      <th>STREET_NAME</th>\n",
       "    </tr>\n",
       "  </thead>\n",
       "  <tbody>\n",
       "    <tr>\n",
       "      <th>0</th>\n",
       "      <td>2</td>\n",
       "      <td>강원도</td>\n",
       "      <td>강릉시 견소동</td>\n",
       "      <td>송정한신</td>\n",
       "      <td>59.80</td>\n",
       "      <td>15</td>\n",
       "      <td>2012-08-27</td>\n",
       "      <td>85000000</td>\n",
       "      <td>1997</td>\n",
       "      <td>202</td>\n",
       "      <td>경강로2539번길 8</td>\n",
       "    </tr>\n",
       "    <tr>\n",
       "      <th>1</th>\n",
       "      <td>3</td>\n",
       "      <td>강원도</td>\n",
       "      <td>강릉시 견소동</td>\n",
       "      <td>송정한신</td>\n",
       "      <td>59.80</td>\n",
       "      <td>1</td>\n",
       "      <td>2012-08-31</td>\n",
       "      <td>60000000</td>\n",
       "      <td>1997</td>\n",
       "      <td>202</td>\n",
       "      <td>경강로2539번길 8</td>\n",
       "    </tr>\n",
       "    <tr>\n",
       "      <th>2</th>\n",
       "      <td>13</td>\n",
       "      <td>강원도</td>\n",
       "      <td>강릉시 교동</td>\n",
       "      <td>교동1주공</td>\n",
       "      <td>49.85</td>\n",
       "      <td>13</td>\n",
       "      <td>2012-08-02</td>\n",
       "      <td>90000000</td>\n",
       "      <td>1999</td>\n",
       "      <td>1750</td>\n",
       "      <td>가작로 78</td>\n",
       "    </tr>\n",
       "    <tr>\n",
       "      <th>3</th>\n",
       "      <td>15</td>\n",
       "      <td>강원도</td>\n",
       "      <td>강릉시 교동</td>\n",
       "      <td>교동대림</td>\n",
       "      <td>59.84</td>\n",
       "      <td>17</td>\n",
       "      <td>2012-08-08</td>\n",
       "      <td>86000000</td>\n",
       "      <td>1997</td>\n",
       "      <td>18-16</td>\n",
       "      <td>수리골길17번길 21</td>\n",
       "    </tr>\n",
       "    <tr>\n",
       "      <th>4</th>\n",
       "      <td>21</td>\n",
       "      <td>강원도</td>\n",
       "      <td>강릉시 교동</td>\n",
       "      <td>민락</td>\n",
       "      <td>54.81</td>\n",
       "      <td>2</td>\n",
       "      <td>2012-08-27</td>\n",
       "      <td>55000000</td>\n",
       "      <td>1985</td>\n",
       "      <td>1429-1</td>\n",
       "      <td>하슬라로10번길 7</td>\n",
       "    </tr>\n",
       "  </tbody>\n",
       "</table>\n",
       "</div>"
      ],
      "text/plain": [
       "   APT_ID REGION REGION_SUB APT_NAME  APT_SIZE  APT_FLOOR CONTRACT_DATE  \\\n",
       "0       2    강원도    강릉시 견소동     송정한신     59.80         15    2012-08-27   \n",
       "1       3    강원도    강릉시 견소동     송정한신     59.80          1    2012-08-31   \n",
       "2      13    강원도     강릉시 교동    교동1주공     49.85         13    2012-08-02   \n",
       "3      15    강원도     강릉시 교동     교동대림     59.84         17    2012-08-08   \n",
       "4      21    강원도     강릉시 교동       민락     54.81          2    2012-08-27   \n",
       "\n",
       "   CONTRACT_PRICE  COMPLETION_YEAR STREET_NUM  STREET_NAME  \n",
       "0        85000000             1997        202  경강로2539번길 8  \n",
       "1        60000000             1997        202  경강로2539번길 8  \n",
       "2        90000000             1999       1750       가작로 78  \n",
       "3        86000000             1997      18-16  수리골길17번길 21  \n",
       "4        55000000             1985     1429-1   하슬라로10번길 7  "
      ]
     },
     "execution_count": 12,
     "metadata": {},
     "output_type": "execute_result"
    }
   ],
   "source": [
    "dataD = get_data_from_db(query)\n",
    "dataD.info()\n",
    "dataD.head()"
   ]
  },
  {
   "cell_type": "code",
   "execution_count": 5,
   "metadata": {},
   "outputs": [],
   "source": [
    "# dataD.describe()"
   ]
  },
  {
   "cell_type": "code",
   "execution_count": 6,
   "metadata": {},
   "outputs": [
    {
     "data": {
      "text/plain": [
       "0         2012-08-27\n",
       "1         2012-08-31\n",
       "2         2012-08-02\n",
       "3         2012-08-08\n",
       "4         2012-08-27\n",
       "             ...    \n",
       "2440200   2020-07-08\n",
       "2440201   2020-07-08\n",
       "2440202   2020-07-09\n",
       "2440203   2020-07-07\n",
       "2440204   2020-07-27\n",
       "Name: CONTRACT_DATE, Length: 2440205, dtype: datetime64[ns]"
      ]
     },
     "execution_count": 6,
     "metadata": {},
     "output_type": "execute_result"
    }
   ],
   "source": [
    "c_date = dataD['CONTRACT_DATE']\n",
    "\n",
    "c_date"
   ]
  },
  {
   "cell_type": "code",
   "execution_count": 8,
   "metadata": {},
   "outputs": [
    {
     "data": {
      "image/png": "[encoded data removed]",
      "text/plain": [
       "<Figure size 432x288 with 1 Axes>"
      ]
     },
     "metadata": {
      "needs_background": "light"
     },
     "output_type": "display_data"
    }
   ],
   "source": [
    "plt.hist(c_date, bins=100) # 히스토그램으로 데이터 분포 보기\n",
    "plt.show()"
   ]
  },
  {
   "cell_type": "code",
   "execution_count": null,
   "metadata": {},
   "outputs": [],
   "source": []
  }
 ],
 "metadata": {
  "kernelspec": {
   "display_name": "Python 3",
   "language": "python",
   "name": "python3"
  },
  "language_info": {
   "codemirror_mode": {
    "name": "ipython",
    "version": 3
   },
   "file_extension": ".py",
   "mimetype": "text/x-python",
   "name": "python",
   "nbconvert_exporter": "python",
   "pygments_lexer": "ipython3",
   "version": "3.6.10"
  }
 },
 "nbformat": 4,
 "nbformat_minor": 4
}
