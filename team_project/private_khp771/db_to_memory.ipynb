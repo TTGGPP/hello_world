{
 "metadata": {
  "language_info": {
   "codemirror_mode": {
    "name": "ipython",
    "version": 3
   },
   "file_extension": ".py",
   "mimetype": "text/x-python",
   "name": "python",
   "nbconvert_exporter": "python",
   "pygments_lexer": "ipython3",
   "version": "3.6.10-final"
  },
  "orig_nbformat": 2,
  "kernelspec": {
   "name": "python3",
   "display_name": "Python 3"
  }
 },
 "nbformat": 4,
 "nbformat_minor": 2,
 "cells": [
  {
   "cell_type": "code",
   "execution_count": 55,
   "metadata": {},
   "outputs": [],
   "source": [
    "import numpy as np\n",
    "import pandas as pd\n",
    "import cx_Oracle"
   ]
  },
  {
   "cell_type": "code",
   "execution_count": 2,
   "metadata": {},
   "outputs": [],
   "source": [
    "# 시계열 정보\n",
    "time_table1 =[\n",
    "    ['2012-08-01', '2012-12-31'],\n",
    "    ['2013-01-01', '2013-12-31'],\n",
    "    ['2014-01-01', '2014-12-31'],\n",
    "    ['2015-01-01', '2015-12-31'],\n",
    "    ['2016-01-01', '2016-12-31'],\n",
    "    ['2017-01-01', '2017-12-31'],\n",
    "    ['2018-01-01', '2018-12-31'],\n",
    "    ['2019-01-01', '2019-12-31'],\n",
    "    ['2020-01-01', '2020-07-31']]\n",
    "\n",
    "time_table2 = [\n",
    "    '2012', '2013', '2014', '2015', '2016',\n",
    "    '2017', '2018', '2019', '2020']"
   ]
  },
  {
   "cell_type": "code",
   "execution_count": 3,
   "metadata": {},
   "outputs": [],
   "source": [
    "# 지역 정보\n",
    "region_table1 = [\n",
    "    '강원도', '경기도', '경상남도', '경상북도', '광주광역시', '대구광역시',\n",
    "    '대전광역시', '부산광역시', '서울특별시', '세종특별자치시', '울산광역시',\n",
    "    '인천광역시', '전라남도', '전라북도', '제주특별자치도', '충청남도', '충청북도']"
   ]
  },
  {
   "cell_type": "code",
   "execution_count": 4,
   "metadata": {},
   "outputs": [],
   "source": [
    "def get_data_from_db(query):\n",
    "    conn = cx_Oracle.connect('hoseo', 'hoseo', 'localhost:1521/xe')\n",
    "    df = pd.read_sql(query, conn)\n",
    "    conn.close()\n",
    "    return df"
   ]
  },
  {
   "cell_type": "code",
   "execution_count": 17,
   "metadata": {
    "tags": []
   },
   "outputs": [],
   "source": [
    "# 년도별 지역별 전체 매매건수\n",
    "def make_region_deal_count():\n",
    "    for year in time_table2:\n",
    "\n",
    "        query = f\"\"\"\n",
    "            SELECT adp.region, COUNT(*) AS y{year} \n",
    "            FROM apt_deal_price adp \n",
    "            WHERE TO_CHAR(adp.contract_date, 'YYYY') = '{year}' \n",
    "            GROUP BY adp.region \n",
    "            ORDER BY adp.region ASC\n",
    "            \"\"\"\n",
    "\n",
    "        queD = get_data_from_db(query)\n",
    "\n",
    "        if year == '2012':\n",
    "            dataD = queD.copy()\n",
    "        else:\n",
    "            dataD = dataD.merge(queD)\n",
    "\n",
    "    dataD.info()\n",
    "    dataD.to_csv('sub-data-files/region_deal_count.csv', index=False, encoding='utf-8-sig')\n",
    "    "
   ]
  },
  {
   "cell_type": "code",
   "execution_count": 6,
   "metadata": {
    "tags": []
   },
   "outputs": [],
   "source": [
    "# make_region_deal_count()"
   ]
  },
  {
   "cell_type": "code",
   "execution_count": 7,
   "metadata": {
    "tags": []
   },
   "outputs": [
    {
     "output_type": "execute_result",
     "data": {
      "text/plain": "     REGION  Y2012   Y2013   Y2014   Y2015   Y2016   Y2017   Y2018   Y2019  \\\n0       강원도   6630   17830   19607   22038   20351   16608   12825   13914   \n1       경기도  41582  147064  172370  200666  175042  154053  151747  141529   \n2      경상남도  12818   39806   47725   48027   37483   30780   25463   33552   \n3      경상북도  11594   29417   27867   27196   20114   20705   18861   22647   \n4     광주광역시   8387   22310   25424   23859   21420   22764   25384   20135   \n5     대구광역시  16495   39240   34041   32299   19047   32067   32582   30142   \n6     대전광역시   6432   20935   20923   21186   22785   20283   19602   27390   \n7     부산광역시  13255   42777   52758   62263   56409   37938   25857   36080   \n8     서울특별시  18633   68136   85537  120023  110183  105063   81389   74917   \n9   세종특별자치시    546    1130    1204    2033    3520    4669    3430    5802   \n10    울산광역시   6270   18591   23111   21153   14235   11513    8148   14289   \n11    인천광역시   9515   34446   42172   49099   42968   36600   30384   34224   \n12     전라남도   5774   13448   14652   18934   19502   19118   17092   16589   \n13     전라북도   6789   17167   19527   22914   22336   20038   17860   18681   \n14  제주특별자치도   1828    4284    4374    3540    3632    2524    2537    2316   \n15     충청남도  12359   27048   29074   25822   19542   19667   18926   24946   \n16     충청북도   7114   19946   20125   17001   16262   15921   13853   17149   \n\n     Y2020  \n0    12550  \n1   150660  \n2    24848  \n3    18548  \n4    13465  \n5    21410  \n6    17102  \n7    30418  \n8    50428  \n9     5722  \n10   10276  \n11   36690  \n12   12207  \n13   14901  \n14    1617  \n15   19659  \n16   16503  ",
      "text/html": "<div>\n<style scoped>\n    .dataframe tbody tr th:only-of-type {\n        vertical-align: middle;\n    }\n\n    .dataframe tbody tr th {\n        vertical-align: top;\n    }\n\n    .dataframe thead th {\n        text-align: right;\n    }\n</style>\n<table border=\"1\" class=\"dataframe\">\n  <thead>\n    <tr style=\"text-align: right;\">\n      <th></th>\n      <th>REGION</th>\n      <th>Y2012</th>\n      <th>Y2013</th>\n      <th>Y2014</th>\n      <th>Y2015</th>\n      <th>Y2016</th>\n      <th>Y2017</th>\n      <th>Y2018</th>\n      <th>Y2019</th>\n      <th>Y2020</th>\n    </tr>\n  </thead>\n  <tbody>\n    <tr>\n      <th>0</th>\n      <td>강원도</td>\n      <td>6630</td>\n      <td>17830</td>\n      <td>19607</td>\n      <td>22038</td>\n      <td>20351</td>\n      <td>16608</td>\n      <td>12825</td>\n      <td>13914</td>\n      <td>12550</td>\n    </tr>\n    <tr>\n      <th>1</th>\n      <td>경기도</td>\n      <td>41582</td>\n      <td>147064</td>\n      <td>172370</td>\n      <td>200666</td>\n      <td>175042</td>\n      <td>154053</td>\n      <td>151747</td>\n      <td>141529</td>\n      <td>150660</td>\n    </tr>\n    <tr>\n      <th>2</th>\n      <td>경상남도</td>\n      <td>12818</td>\n      <td>39806</td>\n      <td>47725</td>\n      <td>48027</td>\n      <td>37483</td>\n      <td>30780</td>\n      <td>25463</td>\n      <td>33552</td>\n      <td>24848</td>\n    </tr>\n    <tr>\n      <th>3</th>\n      <td>경상북도</td>\n      <td>11594</td>\n      <td>29417</td>\n      <td>27867</td>\n      <td>27196</td>\n      <td>20114</td>\n      <td>20705</td>\n      <td>18861</td>\n      <td>22647</td>\n      <td>18548</td>\n    </tr>\n    <tr>\n      <th>4</th>\n      <td>광주광역시</td>\n      <td>8387</td>\n      <td>22310</td>\n      <td>25424</td>\n      <td>23859</td>\n      <td>21420</td>\n      <td>22764</td>\n      <td>25384</td>\n      <td>20135</td>\n      <td>13465</td>\n    </tr>\n    <tr>\n      <th>5</th>\n      <td>대구광역시</td>\n      <td>16495</td>\n      <td>39240</td>\n      <td>34041</td>\n      <td>32299</td>\n      <td>19047</td>\n      <td>32067</td>\n      <td>32582</td>\n      <td>30142</td>\n      <td>21410</td>\n    </tr>\n    <tr>\n      <th>6</th>\n      <td>대전광역시</td>\n      <td>6432</td>\n      <td>20935</td>\n      <td>20923</td>\n      <td>21186</td>\n      <td>22785</td>\n      <td>20283</td>\n      <td>19602</td>\n      <td>27390</td>\n      <td>17102</td>\n    </tr>\n    <tr>\n      <th>7</th>\n      <td>부산광역시</td>\n      <td>13255</td>\n      <td>42777</td>\n      <td>52758</td>\n      <td>62263</td>\n      <td>56409</td>\n      <td>37938</td>\n      <td>25857</td>\n      <td>36080</td>\n      <td>30418</td>\n    </tr>\n    <tr>\n      <th>8</th>\n      <td>서울특별시</td>\n      <td>18633</td>\n      <td>68136</td>\n      <td>85537</td>\n      <td>120023</td>\n      <td>110183</td>\n      <td>105063</td>\n      <td>81389</td>\n      <td>74917</td>\n      <td>50428</td>\n    </tr>\n    <tr>\n      <th>9</th>\n      <td>세종특별자치시</td>\n      <td>546</td>\n      <td>1130</td>\n      <td>1204</td>\n      <td>2033</td>\n      <td>3520</td>\n      <td>4669</td>\n      <td>3430</td>\n      <td>5802</td>\n      <td>5722</td>\n    </tr>\n    <tr>\n      <th>10</th>\n      <td>울산광역시</td>\n      <td>6270</td>\n      <td>18591</td>\n      <td>23111</td>\n      <td>21153</td>\n      <td>14235</td>\n      <td>11513</td>\n      <td>8148</td>\n      <td>14289</td>\n      <td>10276</td>\n    </tr>\n    <tr>\n      <th>11</th>\n      <td>인천광역시</td>\n      <td>9515</td>\n      <td>34446</td>\n      <td>42172</td>\n      <td>49099</td>\n      <td>42968</td>\n      <td>36600</td>\n      <td>30384</td>\n      <td>34224</td>\n      <td>36690</td>\n    </tr>\n    <tr>\n      <th>12</th>\n      <td>전라남도</td>\n      <td>5774</td>\n      <td>13448</td>\n      <td>14652</td>\n      <td>18934</td>\n      <td>19502</td>\n      <td>19118</td>\n      <td>17092</td>\n      <td>16589</td>\n      <td>12207</td>\n    </tr>\n    <tr>\n      <th>13</th>\n      <td>전라북도</td>\n      <td>6789</td>\n      <td>17167</td>\n      <td>19527</td>\n      <td>22914</td>\n      <td>22336</td>\n      <td>20038</td>\n      <td>17860</td>\n      <td>18681</td>\n      <td>14901</td>\n    </tr>\n    <tr>\n      <th>14</th>\n      <td>제주특별자치도</td>\n      <td>1828</td>\n      <td>4284</td>\n      <td>4374</td>\n      <td>3540</td>\n      <td>3632</td>\n      <td>2524</td>\n      <td>2537</td>\n      <td>2316</td>\n      <td>1617</td>\n    </tr>\n    <tr>\n      <th>15</th>\n      <td>충청남도</td>\n      <td>12359</td>\n      <td>27048</td>\n      <td>29074</td>\n      <td>25822</td>\n      <td>19542</td>\n      <td>19667</td>\n      <td>18926</td>\n      <td>24946</td>\n      <td>19659</td>\n    </tr>\n    <tr>\n      <th>16</th>\n      <td>충청북도</td>\n      <td>7114</td>\n      <td>19946</td>\n      <td>20125</td>\n      <td>17001</td>\n      <td>16262</td>\n      <td>15921</td>\n      <td>13853</td>\n      <td>17149</td>\n      <td>16503</td>\n    </tr>\n  </tbody>\n</table>\n</div>"
     },
     "metadata": {},
     "execution_count": 7
    }
   ],
   "source": [
    "testD = pd.read_csv('sub-data-files/region_deal_count.csv')\n",
    "testD"
   ]
  },
  {
   "cell_type": "code",
   "execution_count": 8,
   "metadata": {},
   "outputs": [],
   "source": [
    "# 국민임대주택 규모\n",
    "# 전용면적 50m²(15평) 미만, 무주택 세대주 월평균 소득 50% 이하\n",
    "# 전용면적 50m²(15평)이상∼60m²(18평) 이하, 무주택 세대주 월평균 소득 70% 이하\n",
    "\n",
    "# 국민주택 규모\n",
    "# 전용면적 85m²(25.7평) 이하\n",
    "# 전용면적 100m²(30.2평) 이하, 수도권을 제외한 도시지역이 아닌 읍·면 지역\n",
    "\n",
    "# 전용면적 100m²(30.2평)초과~135m²(40.8평)이하\n",
    "# 전용면적 135m²(40.8평)초과\n",
    "\n",
    "# ~ 50m²\n",
    "# 50m² ~ 60m²\n",
    "# 60m² ~ 85m²\n",
    "# 85m² ~ 100m²\n",
    "# 100m² ~ 135m²\n",
    "# 135m² ~"
   ]
  },
  {
   "cell_type": "code",
   "execution_count": 9,
   "metadata": {},
   "outputs": [],
   "source": [
    "size_conditions = [\n",
    "    ('under_50', 'adp.apt_size < 50'),\n",
    "    ('50_60', 'adp.apt_size >= 50 AND adp.apt_size <= 60'),\n",
    "    ('60_85', 'adp.apt_size > 60 AND adp.apt_size <= 85'),\n",
    "    ('85_100', 'adp.apt_size > 85 AND adp.apt_size <= 100'),\n",
    "    ('100_135', 'adp.apt_size > 100 AND adp.apt_size <= 135'),\n",
    "    ('135_over', 'adp.apt_size > 135')]\n",
    "\n",
    "col_apt_size_data = [\n",
    "    'region', 'apt_size', 'y2012', 'y2013', 'y2014',\n",
    "    'y2015', 'y2016', 'y2017', 'y2018', 'y2019', 'y2020']\n",
    "    "
   ]
  },
  {
   "cell_type": "code",
   "execution_count": 13,
   "metadata": {},
   "outputs": [],
   "source": [
    "# 지역별 사이즈별 매매건수 데이터 수집\n",
    "def make_region_size_count(year = 2012):\n",
    "    for cond in size_conditions:\n",
    "\n",
    "        query = f\"\"\"\n",
    "            SELECT adp.region AS region, COUNT(adp.apt_size) AS \"{cond[0]}\"\n",
    "            FROM apt_deal_price adp\n",
    "            WHERE to_char(adp.contract_date, 'YYYY') = '{year}' AND {cond[1]}\n",
    "            GROUP BY adp.region\n",
    "            ORDER BY adp.region ASC\n",
    "            \"\"\"\n",
    "\n",
    "        queD = get_data_from_db(query)\n",
    "\n",
    "        if cond[0] == 'under_50':\n",
    "            dataD = queD.copy()\n",
    "        else:\n",
    "            dataD = dataD.merge(queD, how='left')\n",
    "        \n",
    "    dataD.fillna(0, inplace=True)\n",
    "    dataD = dataD.astype( \\\n",
    "        {'under_50':'int64', '50_60':'int64', '60_85':'int64',\n",
    "        '85_100':'int64', '100_135':'int64', '135_over':'int64'})\n",
    "    \n",
    "    # dataD.info()\n",
    "\n",
    "    dataD.set_index('REGION', inplace=True)\n",
    "    data_list = dataD.values.reshape(len(region_table1) * len(size_conditions), )\n",
    "\n",
    "    return data_list\n"
   ]
  },
  {
   "cell_type": "code",
   "execution_count": 14,
   "metadata": {
    "tags": []
   },
   "outputs": [],
   "source": [
    "# 년도별 지역별 사이즈별 매매건수 데이터 만들기\n",
    "def complete_region_size_count():\n",
    "\n",
    "    # 최종 데이터 테이블 형태 만들기\n",
    "    row_count = len(region_table1) * len(size_conditions)\n",
    "    col_count = len(col_apt_size_data)\n",
    "    allD = pd.DataFrame(np.zeros((row_count, col_count), dtype='int64'), columns=col_apt_size_data)\n",
    "\n",
    "    size_list = [ x[0] for x in size_conditions ]\n",
    "    allD['apt_size'] = size_list * len(region_table1)\n",
    "\n",
    "    region_list = []\n",
    "    for r in region_table1:\n",
    "        region_list.extend([r] * len(size_conditions))\n",
    "    allD['region'] = region_list\n",
    "\n",
    "    # 년도별 데이터 수집\n",
    "    for year in time_table2:\n",
    "        data_list = make_region_size_count(year)\n",
    "        allD['y' + year] = data_list\n",
    "        \n",
    "    allD.info()\n",
    "    allD.to_csv('sub-data-files/region_size_deal_count.csv', index=False, encoding='utf-8-sig')"
   ]
  },
  {
   "cell_type": "code",
   "execution_count": 15,
   "metadata": {
    "tags": []
   },
   "outputs": [
    {
     "output_type": "stream",
     "name": "stdout",
     "text": "<class 'pandas.core.frame.DataFrame'>\nRangeIndex: 102 entries, 0 to 101\nData columns (total 11 columns):\n #   Column    Non-Null Count  Dtype \n---  ------    --------------  ----- \n 0   region    102 non-null    object\n 1   apt_size  102 non-null    object\n 2   y2012     102 non-null    int64 \n 3   y2013     102 non-null    int64 \n 4   y2014     102 non-null    int64 \n 5   y2015     102 non-null    int64 \n 6   y2016     102 non-null    int64 \n 7   y2017     102 non-null    int64 \n 8   y2018     102 non-null    int64 \n 9   y2019     102 non-null    int64 \n 10  y2020     102 non-null    int64 \ndtypes: int64(9), object(2)\nmemory usage: 8.9+ KB\n"
    }
   ],
   "source": [
    "# complete_region_size_count()"
   ]
  },
  {
   "cell_type": "code",
   "execution_count": 16,
   "metadata": {
    "tags": []
   },
   "outputs": [
    {
     "output_type": "execute_result",
     "data": {
      "text/plain": "   region  apt_size  y2012  y2013  y2014  y2015  y2016  y2017  y2018  y2019  \\\n0     강원도  under_50   1745   5230   5375   5129   4973   4335   2953   2599   \n1     강원도     50_60   2164   5709   6467   6971   6165   5092   4104   4500   \n2     강원도     60_85   2063   5477   6316   7868   7326   5814   4712   5820   \n3     강원도    85_100     75    194    218    278    262    198    135    154   \n4     강원도   100_135    432    894    992   1443   1282    937    742    660   \n5     강원도  135_over    151    326    239    349    343    232    179    181   \n6     경기도  under_50   5283  17442  23048  26504  23472  20073  17546  15751   \n7     경기도     50_60  11330  40630  46031  52233  46651  40635  37919  35299   \n8     경기도     60_85  17987  63772  73604  86951  75077  65850  67028  64718   \n9     경기도    85_100    638   2393   3079   3755   3081   2675   2951   3153   \n10    경기도   100_135   5101  18020  21557  25362  21818  20338  21258  18309   \n11    경기도  135_over   1243   4807   5051   5861   4943   4482   5045   4299   \n\n    y2020  \n0    2222  \n1    4139  \n2    5144  \n3     160  \n4     704  \n5     181  \n6   16352  \n7   38755  \n8   69997  \n9    3176  \n10  17679  \n11   4701  ",
      "text/html": "<div>\n<style scoped>\n    .dataframe tbody tr th:only-of-type {\n        vertical-align: middle;\n    }\n\n    .dataframe tbody tr th {\n        vertical-align: top;\n    }\n\n    .dataframe thead th {\n        text-align: right;\n    }\n</style>\n<table border=\"1\" class=\"dataframe\">\n  <thead>\n    <tr style=\"text-align: right;\">\n      <th></th>\n      <th>region</th>\n      <th>apt_size</th>\n      <th>y2012</th>\n      <th>y2013</th>\n      <th>y2014</th>\n      <th>y2015</th>\n      <th>y2016</th>\n      <th>y2017</th>\n      <th>y2018</th>\n      <th>y2019</th>\n      <th>y2020</th>\n    </tr>\n  </thead>\n  <tbody>\n    <tr>\n      <th>0</th>\n      <td>강원도</td>\n      <td>under_50</td>\n      <td>1745</td>\n      <td>5230</td>\n      <td>5375</td>\n      <td>5129</td>\n      <td>4973</td>\n      <td>4335</td>\n      <td>2953</td>\n      <td>2599</td>\n      <td>2222</td>\n    </tr>\n    <tr>\n      <th>1</th>\n      <td>강원도</td>\n      <td>50_60</td>\n      <td>2164</td>\n      <td>5709</td>\n      <td>6467</td>\n      <td>6971</td>\n      <td>6165</td>\n      <td>5092</td>\n      <td>4104</td>\n      <td>4500</td>\n      <td>4139</td>\n    </tr>\n    <tr>\n      <th>2</th>\n      <td>강원도</td>\n      <td>60_85</td>\n      <td>2063</td>\n      <td>5477</td>\n      <td>6316</td>\n      <td>7868</td>\n      <td>7326</td>\n      <td>5814</td>\n      <td>4712</td>\n      <td>5820</td>\n      <td>5144</td>\n    </tr>\n    <tr>\n      <th>3</th>\n      <td>강원도</td>\n      <td>85_100</td>\n      <td>75</td>\n      <td>194</td>\n      <td>218</td>\n      <td>278</td>\n      <td>262</td>\n      <td>198</td>\n      <td>135</td>\n      <td>154</td>\n      <td>160</td>\n    </tr>\n    <tr>\n      <th>4</th>\n      <td>강원도</td>\n      <td>100_135</td>\n      <td>432</td>\n      <td>894</td>\n      <td>992</td>\n      <td>1443</td>\n      <td>1282</td>\n      <td>937</td>\n      <td>742</td>\n      <td>660</td>\n      <td>704</td>\n    </tr>\n    <tr>\n      <th>5</th>\n      <td>강원도</td>\n      <td>135_over</td>\n      <td>151</td>\n      <td>326</td>\n      <td>239</td>\n      <td>349</td>\n      <td>343</td>\n      <td>232</td>\n      <td>179</td>\n      <td>181</td>\n      <td>181</td>\n    </tr>\n    <tr>\n      <th>6</th>\n      <td>경기도</td>\n      <td>under_50</td>\n      <td>5283</td>\n      <td>17442</td>\n      <td>23048</td>\n      <td>26504</td>\n      <td>23472</td>\n      <td>20073</td>\n      <td>17546</td>\n      <td>15751</td>\n      <td>16352</td>\n    </tr>\n    <tr>\n      <th>7</th>\n      <td>경기도</td>\n      <td>50_60</td>\n      <td>11330</td>\n      <td>40630</td>\n      <td>46031</td>\n      <td>52233</td>\n      <td>46651</td>\n      <td>40635</td>\n      <td>37919</td>\n      <td>35299</td>\n      <td>38755</td>\n    </tr>\n    <tr>\n      <th>8</th>\n      <td>경기도</td>\n      <td>60_85</td>\n      <td>17987</td>\n      <td>63772</td>\n      <td>73604</td>\n      <td>86951</td>\n      <td>75077</td>\n      <td>65850</td>\n      <td>67028</td>\n      <td>64718</td>\n      <td>69997</td>\n    </tr>\n    <tr>\n      <th>9</th>\n      <td>경기도</td>\n      <td>85_100</td>\n      <td>638</td>\n      <td>2393</td>\n      <td>3079</td>\n      <td>3755</td>\n      <td>3081</td>\n      <td>2675</td>\n      <td>2951</td>\n      <td>3153</td>\n      <td>3176</td>\n    </tr>\n    <tr>\n      <th>10</th>\n      <td>경기도</td>\n      <td>100_135</td>\n      <td>5101</td>\n      <td>18020</td>\n      <td>21557</td>\n      <td>25362</td>\n      <td>21818</td>\n      <td>20338</td>\n      <td>21258</td>\n      <td>18309</td>\n      <td>17679</td>\n    </tr>\n    <tr>\n      <th>11</th>\n      <td>경기도</td>\n      <td>135_over</td>\n      <td>1243</td>\n      <td>4807</td>\n      <td>5051</td>\n      <td>5861</td>\n      <td>4943</td>\n      <td>4482</td>\n      <td>5045</td>\n      <td>4299</td>\n      <td>4701</td>\n    </tr>\n  </tbody>\n</table>\n</div>"
     },
     "metadata": {},
     "execution_count": 16
    }
   ],
   "source": [
    "testD = pd.read_csv('sub-data-files/region_size_deal_count.csv')\n",
    "testD.head(12)"
   ]
  },
  {
   "cell_type": "code",
   "execution_count": 37,
   "metadata": {},
   "outputs": [],
   "source": [
    "def get_yyyymm():\n",
    "    query = \"\"\"\n",
    "        SELECT DISTINCT to_char(adp.contract_date, 'YYYYMM') AS ym\n",
    "        FROM apt_deal_price adp\n",
    "        ORDER BY ym ASC\n",
    "        \"\"\"\n",
    "\n",
    "    queD = get_data_from_db(query)\n",
    "    return list(queD['YM'])\n",
    "    "
   ]
  },
  {
   "cell_type": "code",
   "execution_count": 40,
   "metadata": {},
   "outputs": [],
   "source": [
    "# 월별 지역별 전체 매매건수\n",
    "def make_region_deal_count_month():\n",
    "    yyyymm = get_yyyymm()\n",
    "\n",
    "    for ym in yyyymm:\n",
    "\n",
    "        query = f\"\"\"\n",
    "            SELECT adp.region, COUNT(*) AS ym{ym} \n",
    "            FROM apt_deal_price adp \n",
    "            WHERE TO_CHAR(adp.contract_date, 'YYYYMM') = '{ym}' \n",
    "            GROUP BY adp.region \n",
    "            ORDER BY adp.region ASC\n",
    "            \"\"\"\n",
    "\n",
    "        queD = get_data_from_db(query)\n",
    "\n",
    "        if ym == '201208':\n",
    "            dataD = queD.copy()\n",
    "        else:\n",
    "            dataD = dataD.merge(queD, how='left')\n",
    "\n",
    "    dataD.info()\n",
    "    dataD.to_csv('sub-data-files/region_deal_count_month.csv', index=False, encoding='utf-8-sig')"
   ]
  },
  {
   "cell_type": "code",
   "execution_count": 43,
   "metadata": {
    "tags": []
   },
   "outputs": [],
   "source": [
    "# make_region_deal_count_month()"
   ]
  },
  {
   "cell_type": "code",
   "execution_count": 54,
   "metadata": {},
   "outputs": [
    {
     "output_type": "execute_result",
     "data": {
      "text/plain": "  REGION  YM201208  YM201209  YM201210  YM201211  YM201212  YM201301  \\\n0    강원도       933      1191      1495      1513      1498      1023   \n1    경기도      5631      8083     10645      9178      8045      7115   \n2   경상남도      1623      2113      3168      3101      2813      2286   \n3   경상북도      1781      2087      2701      2519      2506      1947   \n4  광주광역시      1204      1483      2012      1956      1732      1413   \n\n   YM201302  YM201303  YM201304  ...  YM201910  YM201911  YM201912  YM202001  \\\n0      1227      2383      1660  ...      1343      1377      1751      1439   \n1      8588     13003     14632  ...     18101     20779     20988     20747   \n2      2801      3747      4001  ...      4026      4869      3822      3183   \n3      2324      2837      3134  ...      2549      2514      2400      2193   \n4      1799      2206      2051  ...      2046      2133      2128      1954   \n\n   YM202002  YM202003  YM202004  YM202005  YM202006  YM202007  \n0      1868      1579      1625      1982      2312      1745  \n1     31851     16368     12759     16979     34952     17004  \n2      3704      2625      2633      3376      5764      3563  \n3      2689      1915      2083      3392      3843      2433  \n4      2251      1738      1490      1778      2423      1831  \n\n[5 rows x 97 columns]",
      "text/html": "<div>\n<style scoped>\n    .dataframe tbody tr th:only-of-type {\n        vertical-align: middle;\n    }\n\n    .dataframe tbody tr th {\n        vertical-align: top;\n    }\n\n    .dataframe thead th {\n        text-align: right;\n    }\n</style>\n<table border=\"1\" class=\"dataframe\">\n  <thead>\n    <tr style=\"text-align: right;\">\n      <th></th>\n      <th>REGION</th>\n      <th>YM201208</th>\n      <th>YM201209</th>\n      <th>YM201210</th>\n      <th>YM201211</th>\n      <th>YM201212</th>\n      <th>YM201301</th>\n      <th>YM201302</th>\n      <th>YM201303</th>\n      <th>YM201304</th>\n      <th>...</th>\n      <th>YM201910</th>\n      <th>YM201911</th>\n      <th>YM201912</th>\n      <th>YM202001</th>\n      <th>YM202002</th>\n      <th>YM202003</th>\n      <th>YM202004</th>\n      <th>YM202005</th>\n      <th>YM202006</th>\n      <th>YM202007</th>\n    </tr>\n  </thead>\n  <tbody>\n    <tr>\n      <th>0</th>\n      <td>강원도</td>\n      <td>933</td>\n      <td>1191</td>\n      <td>1495</td>\n      <td>1513</td>\n      <td>1498</td>\n      <td>1023</td>\n      <td>1227</td>\n      <td>2383</td>\n      <td>1660</td>\n      <td>...</td>\n      <td>1343</td>\n      <td>1377</td>\n      <td>1751</td>\n      <td>1439</td>\n      <td>1868</td>\n      <td>1579</td>\n      <td>1625</td>\n      <td>1982</td>\n      <td>2312</td>\n      <td>1745</td>\n    </tr>\n    <tr>\n      <th>1</th>\n      <td>경기도</td>\n      <td>5631</td>\n      <td>8083</td>\n      <td>10645</td>\n      <td>9178</td>\n      <td>8045</td>\n      <td>7115</td>\n      <td>8588</td>\n      <td>13003</td>\n      <td>14632</td>\n      <td>...</td>\n      <td>18101</td>\n      <td>20779</td>\n      <td>20988</td>\n      <td>20747</td>\n      <td>31851</td>\n      <td>16368</td>\n      <td>12759</td>\n      <td>16979</td>\n      <td>34952</td>\n      <td>17004</td>\n    </tr>\n    <tr>\n      <th>2</th>\n      <td>경상남도</td>\n      <td>1623</td>\n      <td>2113</td>\n      <td>3168</td>\n      <td>3101</td>\n      <td>2813</td>\n      <td>2286</td>\n      <td>2801</td>\n      <td>3747</td>\n      <td>4001</td>\n      <td>...</td>\n      <td>4026</td>\n      <td>4869</td>\n      <td>3822</td>\n      <td>3183</td>\n      <td>3704</td>\n      <td>2625</td>\n      <td>2633</td>\n      <td>3376</td>\n      <td>5764</td>\n      <td>3563</td>\n    </tr>\n    <tr>\n      <th>3</th>\n      <td>경상북도</td>\n      <td>1781</td>\n      <td>2087</td>\n      <td>2701</td>\n      <td>2519</td>\n      <td>2506</td>\n      <td>1947</td>\n      <td>2324</td>\n      <td>2837</td>\n      <td>3134</td>\n      <td>...</td>\n      <td>2549</td>\n      <td>2514</td>\n      <td>2400</td>\n      <td>2193</td>\n      <td>2689</td>\n      <td>1915</td>\n      <td>2083</td>\n      <td>3392</td>\n      <td>3843</td>\n      <td>2433</td>\n    </tr>\n    <tr>\n      <th>4</th>\n      <td>광주광역시</td>\n      <td>1204</td>\n      <td>1483</td>\n      <td>2012</td>\n      <td>1956</td>\n      <td>1732</td>\n      <td>1413</td>\n      <td>1799</td>\n      <td>2206</td>\n      <td>2051</td>\n      <td>...</td>\n      <td>2046</td>\n      <td>2133</td>\n      <td>2128</td>\n      <td>1954</td>\n      <td>2251</td>\n      <td>1738</td>\n      <td>1490</td>\n      <td>1778</td>\n      <td>2423</td>\n      <td>1831</td>\n    </tr>\n  </tbody>\n</table>\n<p>5 rows × 97 columns</p>\n</div>"
     },
     "metadata": {},
     "execution_count": 54
    }
   ],
   "source": [
    "testD = pd.read_csv('sub-data-files/region_deal_count_month.csv')\n",
    "testD.head()"
   ]
  },
  {
   "cell_type": "markdown",
   "metadata": {},
   "source": [
    "## 아래 내용은 작업중.."
   ]
  },
  {
   "cell_type": "code",
   "execution_count": 56,
   "metadata": {},
   "outputs": [],
   "source": [
    "# 월별 지역별 사이즈별 매매건수 데이터 수집\n",
    "def make_region_size_count_month(ym = 201208):\n",
    "    for cond in size_conditions:\n",
    "\n",
    "        query = f\"\"\"\n",
    "            SELECT adp.region AS region, COUNT(NVL(adp.apt_size, 0)) AS \"{cond[0]}\"\n",
    "            FROM apt_deal_price adp\n",
    "            WHERE to_char(adp.contract_date, 'YYYYMM') = '{ym}' AND {cond[1]}\n",
    "            GROUP BY adp.region\n",
    "            ORDER BY adp.region ASC\n",
    "            \"\"\"\n",
    "\n",
    "        queD = get_data_from_db(query)\n",
    "\n",
    "        if cond[0] == 'under_50':\n",
    "            dataD = queD.copy()\n",
    "        else:\n",
    "            dataD = dataD.merge(queD, how='left')\n",
    "    \n",
    "    # dataD empty 처리\n",
    "\n",
    "    dataD.fillna(0, inplace=True)\n",
    "    dataD = dataD.astype( \\\n",
    "        {'under_50':'int64', '50_60':'int64', '60_85':'int64',\n",
    "        '85_100':'int64', '100_135':'int64', '135_over':'int64'})\n",
    "    \n",
    "    # dataD.info()\n",
    "\n",
    "    dataD.set_index('REGION', inplace=True)\n",
    "    data_list = dataD.values.reshape(len(region_table1) * len(size_conditions), )\n",
    "\n",
    "    return data_list"
   ]
  },
  {
   "cell_type": "code",
   "execution_count": 57,
   "metadata": {},
   "outputs": [],
   "source": [
    "# 월별 지역별 사이즈별 매매건수 데이터 만들기\n",
    "def complete_region_size_count():\n",
    "    yyyymm = get_yyyymm()\n",
    "    col_ym = [ 'ym' + y for y in yyyymm ]\n",
    "    col_apt_size_month = ['region', 'apt_size']\n",
    "    col_apt_size_month += col_ym\n",
    "\n",
    "    # 최종 데이터 테이블 형태 만들기\n",
    "    row_count = len(region_table1) * len(size_conditions)\n",
    "    col_count = len(col_apt_size_month)\n",
    "    allD = pd.DataFrame(np.zeros((row_count, col_count), dtype='int64'), columns=col_apt_size_month)\n",
    "\n",
    "    size_list = [ x[0] for x in size_conditions ]\n",
    "    allD['apt_size'] = size_list * len(region_table1)\n",
    "\n",
    "    region_list = []\n",
    "    for r in region_table1:\n",
    "        region_list.extend([r] * len(size_conditions))\n",
    "    allD['region'] = region_list\n",
    "\n",
    "    # 년도별 데이터 수집\n",
    "    for ym in yyyymm:\n",
    "        data_list = make_region_size_count(ym)\n",
    "        allD['ym' + ym] = data_list\n",
    "        \n",
    "    allD.info()\n",
    "    allD.to_csv('sub-data-files/region_size_deal_count_month.csv', index=False, encoding='utf-8-sig')"
   ]
  },
  {
   "cell_type": "code",
   "execution_count": null,
   "metadata": {},
   "outputs": [],
   "source": []
  }
 ]
}