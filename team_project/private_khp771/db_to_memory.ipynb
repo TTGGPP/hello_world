{
 "metadata": {
  "language_info": {
   "codemirror_mode": {
    "name": "ipython",
    "version": 3
   },
   "file_extension": ".py",
   "mimetype": "text/x-python",
   "name": "python",
   "nbconvert_exporter": "python",
   "pygments_lexer": "ipython3",
   "version": "3.6.10-final"
  },
  "orig_nbformat": 2,
  "kernelspec": {
   "name": "python3",
   "display_name": "Python 3"
  }
 },
 "nbformat": 4,
 "nbformat_minor": 2,
 "cells": [
  {
   "cell_type": "code",
   "execution_count": 3,
   "metadata": {},
   "outputs": [],
   "source": [
    "import numpy as np\n",
    "import pandas as pd\n",
    "import cx_Oracle"
   ]
  },
  {
   "cell_type": "code",
   "execution_count": 2,
   "metadata": {},
   "outputs": [],
   "source": [
    "# 시계열 정보\n",
    "time_table1 =[\n",
    "    ['2012-08-01', '2012-12-31'],\n",
    "    ['2013-01-01', '2013-12-31'],\n",
    "    ['2014-01-01', '2014-12-31'],\n",
    "    ['2015-01-01', '2015-12-31'],\n",
    "    ['2016-01-01', '2016-12-31'],\n",
    "    ['2017-01-01', '2017-12-31'],\n",
    "    ['2018-01-01', '2018-12-31'],\n",
    "    ['2019-01-01', '2019-12-31'],\n",
    "    ['2020-01-01', '2020-07-31']]\n",
    "\n",
    "time_table2 = [\n",
    "    '2012', '2013', '2014', '2015', '2016',\n",
    "    '2017', '2018', '2019', '2020']"
   ]
  },
  {
   "cell_type": "code",
   "execution_count": 3,
   "metadata": {},
   "outputs": [],
   "source": [
    "# 지역 정보\n",
    "region_table1 = [\n",
    "    '강원도', '경기도', '경상남도', '경상북도', '광주광역시', '대구광역시',\n",
    "    '대전광역시', '부산광역시', '서울특별시', '세종특별자치시', '울산광역시',\n",
    "    '인천광역시', '전라남도', '전라북도', '제주특별자치도', '충청남도', '충청북도']"
   ]
  },
  {
   "cell_type": "code",
   "execution_count": 4,
   "metadata": {},
   "outputs": [],
   "source": [
    "def get_data_from_db(query):\n",
    "    conn = cx_Oracle.connect('hoseo', 'hoseo', 'localhost:1521/xe')\n",
    "    df = pd.read_sql(query, conn)\n",
    "    conn.close()\n",
    "    return df"
   ]
  },
  {
   "cell_type": "code",
   "execution_count": 1,
   "metadata": {
    "tags": []
   },
   "outputs": [],
   "source": [
    "# 년도별 지역별 전체 매매건수\n",
    "def make_region_deal_count():\n",
    "    for year in time_table2:\n",
    "\n",
    "        query = f\"\"\"\n",
    "            SELECT adp.region, COUNT(*) AS y{year} \n",
    "            FROM apt_deal_price adp \n",
    "            WHERE TO_CHAR(adp.contract_date, 'YYYY') = '{year}' \n",
    "            GROUP BY adp.region \n",
    "            ORDER BY adp.region ASC\n",
    "            \"\"\"\n",
    "\n",
    "        queD = get_data_from_db(query)\n",
    "\n",
    "        if year == '2012':\n",
    "            dataD = queD.copy()\n",
    "        else:\n",
    "            dataD = dataD.merge(queD)\n",
    "\n",
    "    dataD.info()\n",
    "    lower_col = dataD.columns.values.tolist()\n",
    "    dataD.columns = [ l.lower() for l in lower_col ]\n",
    "    dataD.to_csv('sub-data-files/region_deal_count.csv', index=False, encoding='utf-8-sig')\n",
    "    "
   ]
  },
  {
   "cell_type": "code",
   "execution_count": 6,
   "metadata": {
    "tags": []
   },
   "outputs": [],
   "source": [
    "# make_region_deal_count()"
   ]
  },
  {
   "cell_type": "code",
   "execution_count": 5,
   "metadata": {
    "tags": []
   },
   "outputs": [
    {
     "output_type": "execute_result",
     "data": {
      "text/plain": "     region  y2012   y2013   y2014   y2015   y2016   y2017   y2018   y2019  \\\n0       강원도   6630   17830   19607   22038   20351   16608   12825   13914   \n1       경기도  41582  147064  172370  200666  175042  154053  151747  141529   \n2      경상남도  12818   39806   47725   48027   37483   30780   25463   33552   \n3      경상북도  11594   29417   27867   27196   20114   20705   18861   22647   \n4     광주광역시   8387   22310   25424   23859   21420   22764   25384   20135   \n5     대구광역시  16495   39240   34041   32299   19047   32067   32582   30142   \n6     대전광역시   6432   20935   20923   21186   22785   20283   19602   27390   \n7     부산광역시  13255   42777   52758   62263   56409   37938   25857   36080   \n8     서울특별시  18633   68136   85537  120023  110183  105063   81389   74917   \n9   세종특별자치시    546    1130    1204    2033    3520    4669    3430    5802   \n10    울산광역시   6270   18591   23111   21153   14235   11513    8148   14289   \n11    인천광역시   9515   34446   42172   49099   42968   36600   30384   34224   \n12     전라남도   5774   13448   14652   18934   19502   19118   17092   16589   \n13     전라북도   6789   17167   19527   22914   22336   20038   17860   18681   \n14  제주특별자치도   1828    4284    4374    3540    3632    2524    2537    2316   \n15     충청남도  12359   27048   29074   25822   19542   19667   18926   24946   \n16     충청북도   7114   19946   20125   17001   16262   15921   13853   17149   \n\n     y2020  \n0    12550  \n1   150660  \n2    24848  \n3    18548  \n4    13465  \n5    21410  \n6    17102  \n7    30418  \n8    50428  \n9     5722  \n10   10276  \n11   36690  \n12   12207  \n13   14901  \n14    1617  \n15   19659  \n16   16503  ",
      "text/html": "<div>\n<style scoped>\n    .dataframe tbody tr th:only-of-type {\n        vertical-align: middle;\n    }\n\n    .dataframe tbody tr th {\n        vertical-align: top;\n    }\n\n    .dataframe thead th {\n        text-align: right;\n    }\n</style>\n<table border=\"1\" class=\"dataframe\">\n  <thead>\n    <tr style=\"text-align: right;\">\n      <th></th>\n      <th>region</th>\n      <th>y2012</th>\n      <th>y2013</th>\n      <th>y2014</th>\n      <th>y2015</th>\n      <th>y2016</th>\n      <th>y2017</th>\n      <th>y2018</th>\n      <th>y2019</th>\n      <th>y2020</th>\n    </tr>\n  </thead>\n  <tbody>\n    <tr>\n      <th>0</th>\n      <td>강원도</td>\n      <td>6630</td>\n      <td>17830</td>\n      <td>19607</td>\n      <td>22038</td>\n      <td>20351</td>\n      <td>16608</td>\n      <td>12825</td>\n      <td>13914</td>\n      <td>12550</td>\n    </tr>\n    <tr>\n      <th>1</th>\n      <td>경기도</td>\n      <td>41582</td>\n      <td>147064</td>\n      <td>172370</td>\n      <td>200666</td>\n      <td>175042</td>\n      <td>154053</td>\n      <td>151747</td>\n      <td>141529</td>\n      <td>150660</td>\n    </tr>\n    <tr>\n      <th>2</th>\n      <td>경상남도</td>\n      <td>12818</td>\n      <td>39806</td>\n      <td>47725</td>\n      <td>48027</td>\n      <td>37483</td>\n      <td>30780</td>\n      <td>25463</td>\n      <td>33552</td>\n      <td>24848</td>\n    </tr>\n    <tr>\n      <th>3</th>\n      <td>경상북도</td>\n      <td>11594</td>\n      <td>29417</td>\n      <td>27867</td>\n      <td>27196</td>\n      <td>20114</td>\n      <td>20705</td>\n      <td>18861</td>\n      <td>22647</td>\n      <td>18548</td>\n    </tr>\n    <tr>\n      <th>4</th>\n      <td>광주광역시</td>\n      <td>8387</td>\n      <td>22310</td>\n      <td>25424</td>\n      <td>23859</td>\n      <td>21420</td>\n      <td>22764</td>\n      <td>25384</td>\n      <td>20135</td>\n      <td>13465</td>\n    </tr>\n    <tr>\n      <th>5</th>\n      <td>대구광역시</td>\n      <td>16495</td>\n      <td>39240</td>\n      <td>34041</td>\n      <td>32299</td>\n      <td>19047</td>\n      <td>32067</td>\n      <td>32582</td>\n      <td>30142</td>\n      <td>21410</td>\n    </tr>\n    <tr>\n      <th>6</th>\n      <td>대전광역시</td>\n      <td>6432</td>\n      <td>20935</td>\n      <td>20923</td>\n      <td>21186</td>\n      <td>22785</td>\n      <td>20283</td>\n      <td>19602</td>\n      <td>27390</td>\n      <td>17102</td>\n    </tr>\n    <tr>\n      <th>7</th>\n      <td>부산광역시</td>\n      <td>13255</td>\n      <td>42777</td>\n      <td>52758</td>\n      <td>62263</td>\n      <td>56409</td>\n      <td>37938</td>\n      <td>25857</td>\n      <td>36080</td>\n      <td>30418</td>\n    </tr>\n    <tr>\n      <th>8</th>\n      <td>서울특별시</td>\n      <td>18633</td>\n      <td>68136</td>\n      <td>85537</td>\n      <td>120023</td>\n      <td>110183</td>\n      <td>105063</td>\n      <td>81389</td>\n      <td>74917</td>\n      <td>50428</td>\n    </tr>\n    <tr>\n      <th>9</th>\n      <td>세종특별자치시</td>\n      <td>546</td>\n      <td>1130</td>\n      <td>1204</td>\n      <td>2033</td>\n      <td>3520</td>\n      <td>4669</td>\n      <td>3430</td>\n      <td>5802</td>\n      <td>5722</td>\n    </tr>\n    <tr>\n      <th>10</th>\n      <td>울산광역시</td>\n      <td>6270</td>\n      <td>18591</td>\n      <td>23111</td>\n      <td>21153</td>\n      <td>14235</td>\n      <td>11513</td>\n      <td>8148</td>\n      <td>14289</td>\n      <td>10276</td>\n    </tr>\n    <tr>\n      <th>11</th>\n      <td>인천광역시</td>\n      <td>9515</td>\n      <td>34446</td>\n      <td>42172</td>\n      <td>49099</td>\n      <td>42968</td>\n      <td>36600</td>\n      <td>30384</td>\n      <td>34224</td>\n      <td>36690</td>\n    </tr>\n    <tr>\n      <th>12</th>\n      <td>전라남도</td>\n      <td>5774</td>\n      <td>13448</td>\n      <td>14652</td>\n      <td>18934</td>\n      <td>19502</td>\n      <td>19118</td>\n      <td>17092</td>\n      <td>16589</td>\n      <td>12207</td>\n    </tr>\n    <tr>\n      <th>13</th>\n      <td>전라북도</td>\n      <td>6789</td>\n      <td>17167</td>\n      <td>19527</td>\n      <td>22914</td>\n      <td>22336</td>\n      <td>20038</td>\n      <td>17860</td>\n      <td>18681</td>\n      <td>14901</td>\n    </tr>\n    <tr>\n      <th>14</th>\n      <td>제주특별자치도</td>\n      <td>1828</td>\n      <td>4284</td>\n      <td>4374</td>\n      <td>3540</td>\n      <td>3632</td>\n      <td>2524</td>\n      <td>2537</td>\n      <td>2316</td>\n      <td>1617</td>\n    </tr>\n    <tr>\n      <th>15</th>\n      <td>충청남도</td>\n      <td>12359</td>\n      <td>27048</td>\n      <td>29074</td>\n      <td>25822</td>\n      <td>19542</td>\n      <td>19667</td>\n      <td>18926</td>\n      <td>24946</td>\n      <td>19659</td>\n    </tr>\n    <tr>\n      <th>16</th>\n      <td>충청북도</td>\n      <td>7114</td>\n      <td>19946</td>\n      <td>20125</td>\n      <td>17001</td>\n      <td>16262</td>\n      <td>15921</td>\n      <td>13853</td>\n      <td>17149</td>\n      <td>16503</td>\n    </tr>\n  </tbody>\n</table>\n</div>"
     },
     "metadata": {},
     "execution_count": 5
    }
   ],
   "source": [
    "testD = pd.read_csv('sub-data-files/region_deal_count.csv')\n",
    "testD\n"
   ]
  },
  {
   "cell_type": "code",
   "execution_count": 8,
   "metadata": {},
   "outputs": [],
   "source": [
    "# 국민임대주택 규모\n",
    "# 전용면적 50m²(15평) 미만, 무주택 세대주 월평균 소득 50% 이하\n",
    "# 전용면적 50m²(15평)이상∼60m²(18평) 이하, 무주택 세대주 월평균 소득 70% 이하\n",
    "\n",
    "# 국민주택 규모\n",
    "# 전용면적 85m²(25.7평) 이하\n",
    "# 전용면적 100m²(30.2평) 이하, 수도권을 제외한 도시지역이 아닌 읍·면 지역\n",
    "\n",
    "# 전용면적 100m²(30.2평)초과~135m²(40.8평)이하\n",
    "# 전용면적 135m²(40.8평)초과\n",
    "\n",
    "# ~ 50m²\n",
    "# 50m² ~ 60m²\n",
    "# 60m² ~ 85m²\n",
    "# 85m² ~ 100m²\n",
    "# 100m² ~ 135m²\n",
    "# 135m² ~"
   ]
  },
  {
   "cell_type": "code",
   "execution_count": 9,
   "metadata": {},
   "outputs": [],
   "source": [
    "size_conditions = [\n",
    "    ('under_50', 'adp.apt_size < 50'),\n",
    "    ('50_60', 'adp.apt_size >= 50 AND adp.apt_size <= 60'),\n",
    "    ('60_85', 'adp.apt_size > 60 AND adp.apt_size <= 85'),\n",
    "    ('85_100', 'adp.apt_size > 85 AND adp.apt_size <= 100'),\n",
    "    ('100_135', 'adp.apt_size > 100 AND adp.apt_size <= 135'),\n",
    "    ('135_over', 'adp.apt_size > 135')]\n",
    "\n",
    "size_conditions2 = [\n",
    "    ('under_50', 'A.apt_size < 50'),\n",
    "    ('50_60', 'A.apt_size >= 50 AND A.apt_size <= 60'),\n",
    "    ('60_85', 'A.apt_size > 60 AND A.apt_size <= 85'),\n",
    "    ('85_100', 'A.apt_size > 85 AND A.apt_size <= 100'),\n",
    "    ('100_135', 'A.apt_size > 100 AND A.apt_size <= 135'),\n",
    "    ('135_over', 'A.apt_size > 135')]\n",
    "\n",
    "col_apt_size_data = [\n",
    "    'region', 'apt_size', 'y2012', 'y2013', 'y2014',\n",
    "    'y2015', 'y2016', 'y2017', 'y2018', 'y2019', 'y2020']\n",
    "    "
   ]
  },
  {
   "cell_type": "code",
   "execution_count": 10,
   "metadata": {},
   "outputs": [],
   "source": [
    "# 지역별 사이즈별 매매건수 데이터 수집\n",
    "def make_region_size_count(year = 2012):\n",
    "    for cond in size_conditions:\n",
    "\n",
    "        query = f\"\"\"\n",
    "            SELECT adp.region AS region, COUNT(adp.apt_size) AS \"{cond[0]}\"\n",
    "            FROM apt_deal_price adp\n",
    "            WHERE to_char(adp.contract_date, 'YYYY') = '{year}' AND {cond[1]}\n",
    "            GROUP BY adp.region\n",
    "            ORDER BY adp.region ASC\n",
    "            \"\"\"\n",
    "\n",
    "        queD = get_data_from_db(query)\n",
    "\n",
    "        if cond[0] == 'under_50':\n",
    "            dataD = queD.copy()\n",
    "        else:\n",
    "            dataD = dataD.merge(queD, how='left')\n",
    "        \n",
    "    dataD.fillna(0, inplace=True)\n",
    "    dataD = dataD.astype( \\\n",
    "        {'under_50':'int64', '50_60':'int64', '60_85':'int64',\n",
    "        '85_100':'int64', '100_135':'int64', '135_over':'int64'})\n",
    "    \n",
    "    # dataD.info()\n",
    "\n",
    "    dataD.set_index('REGION', inplace=True)\n",
    "    data_list = dataD.values.reshape(len(region_table1) * len(size_conditions), )\n",
    "\n",
    "    return data_list\n"
   ]
  },
  {
   "cell_type": "code",
   "execution_count": 11,
   "metadata": {
    "tags": []
   },
   "outputs": [],
   "source": [
    "# 년도별 지역별 사이즈별 매매건수 데이터 만들기\n",
    "def complete_region_size_count():\n",
    "\n",
    "    # 최종 데이터 테이블 형태 만들기\n",
    "    row_count = len(region_table1) * len(size_conditions)\n",
    "    col_count = len(col_apt_size_data)\n",
    "    allD = pd.DataFrame(np.zeros((row_count, col_count), dtype='int64'), columns=col_apt_size_data)\n",
    "\n",
    "    size_list = [ x[0] for x in size_conditions ]\n",
    "    allD['apt_size'] = size_list * len(region_table1)\n",
    "\n",
    "    region_list = []\n",
    "    for r in region_table1:\n",
    "        region_list.extend([r] * len(size_conditions))\n",
    "    allD['region'] = region_list\n",
    "\n",
    "    # 년도별 데이터 수집\n",
    "    for year in time_table2:\n",
    "        data_list = make_region_size_count(year)\n",
    "        allD['y' + year] = data_list\n",
    "        \n",
    "    allD.info()\n",
    "    allD.to_csv('sub-data-files/region_size_deal_count.csv', index=False, encoding='utf-8-sig')"
   ]
  },
  {
   "cell_type": "code",
   "execution_count": 12,
   "metadata": {
    "tags": []
   },
   "outputs": [],
   "source": [
    "# complete_region_size_count()"
   ]
  },
  {
   "cell_type": "code",
   "execution_count": 13,
   "metadata": {
    "tags": []
   },
   "outputs": [
    {
     "output_type": "execute_result",
     "data": {
      "text/plain": "   region  apt_size  y2012  y2013  y2014  y2015  y2016  y2017  y2018  y2019  \\\n0     강원도  under_50   1745   5230   5375   5129   4973   4335   2953   2599   \n1     강원도     50_60   2164   5709   6467   6971   6165   5092   4104   4500   \n2     강원도     60_85   2063   5477   6316   7868   7326   5814   4712   5820   \n3     강원도    85_100     75    194    218    278    262    198    135    154   \n4     강원도   100_135    432    894    992   1443   1282    937    742    660   \n5     강원도  135_over    151    326    239    349    343    232    179    181   \n6     경기도  under_50   5283  17442  23048  26504  23472  20073  17546  15751   \n7     경기도     50_60  11330  40630  46031  52233  46651  40635  37919  35299   \n8     경기도     60_85  17987  63772  73604  86951  75077  65850  67028  64718   \n9     경기도    85_100    638   2393   3079   3755   3081   2675   2951   3153   \n10    경기도   100_135   5101  18020  21557  25362  21818  20338  21258  18309   \n11    경기도  135_over   1243   4807   5051   5861   4943   4482   5045   4299   \n\n    y2020  \n0    2222  \n1    4139  \n2    5144  \n3     160  \n4     704  \n5     181  \n6   16352  \n7   38755  \n8   69997  \n9    3176  \n10  17679  \n11   4701  ",
      "text/html": "<div>\n<style scoped>\n    .dataframe tbody tr th:only-of-type {\n        vertical-align: middle;\n    }\n\n    .dataframe tbody tr th {\n        vertical-align: top;\n    }\n\n    .dataframe thead th {\n        text-align: right;\n    }\n</style>\n<table border=\"1\" class=\"dataframe\">\n  <thead>\n    <tr style=\"text-align: right;\">\n      <th></th>\n      <th>region</th>\n      <th>apt_size</th>\n      <th>y2012</th>\n      <th>y2013</th>\n      <th>y2014</th>\n      <th>y2015</th>\n      <th>y2016</th>\n      <th>y2017</th>\n      <th>y2018</th>\n      <th>y2019</th>\n      <th>y2020</th>\n    </tr>\n  </thead>\n  <tbody>\n    <tr>\n      <th>0</th>\n      <td>강원도</td>\n      <td>under_50</td>\n      <td>1745</td>\n      <td>5230</td>\n      <td>5375</td>\n      <td>5129</td>\n      <td>4973</td>\n      <td>4335</td>\n      <td>2953</td>\n      <td>2599</td>\n      <td>2222</td>\n    </tr>\n    <tr>\n      <th>1</th>\n      <td>강원도</td>\n      <td>50_60</td>\n      <td>2164</td>\n      <td>5709</td>\n      <td>6467</td>\n      <td>6971</td>\n      <td>6165</td>\n      <td>5092</td>\n      <td>4104</td>\n      <td>4500</td>\n      <td>4139</td>\n    </tr>\n    <tr>\n      <th>2</th>\n      <td>강원도</td>\n      <td>60_85</td>\n      <td>2063</td>\n      <td>5477</td>\n      <td>6316</td>\n      <td>7868</td>\n      <td>7326</td>\n      <td>5814</td>\n      <td>4712</td>\n      <td>5820</td>\n      <td>5144</td>\n    </tr>\n    <tr>\n      <th>3</th>\n      <td>강원도</td>\n      <td>85_100</td>\n      <td>75</td>\n      <td>194</td>\n      <td>218</td>\n      <td>278</td>\n      <td>262</td>\n      <td>198</td>\n      <td>135</td>\n      <td>154</td>\n      <td>160</td>\n    </tr>\n    <tr>\n      <th>4</th>\n      <td>강원도</td>\n      <td>100_135</td>\n      <td>432</td>\n      <td>894</td>\n      <td>992</td>\n      <td>1443</td>\n      <td>1282</td>\n      <td>937</td>\n      <td>742</td>\n      <td>660</td>\n      <td>704</td>\n    </tr>\n    <tr>\n      <th>5</th>\n      <td>강원도</td>\n      <td>135_over</td>\n      <td>151</td>\n      <td>326</td>\n      <td>239</td>\n      <td>349</td>\n      <td>343</td>\n      <td>232</td>\n      <td>179</td>\n      <td>181</td>\n      <td>181</td>\n    </tr>\n    <tr>\n      <th>6</th>\n      <td>경기도</td>\n      <td>under_50</td>\n      <td>5283</td>\n      <td>17442</td>\n      <td>23048</td>\n      <td>26504</td>\n      <td>23472</td>\n      <td>20073</td>\n      <td>17546</td>\n      <td>15751</td>\n      <td>16352</td>\n    </tr>\n    <tr>\n      <th>7</th>\n      <td>경기도</td>\n      <td>50_60</td>\n      <td>11330</td>\n      <td>40630</td>\n      <td>46031</td>\n      <td>52233</td>\n      <td>46651</td>\n      <td>40635</td>\n      <td>37919</td>\n      <td>35299</td>\n      <td>38755</td>\n    </tr>\n    <tr>\n      <th>8</th>\n      <td>경기도</td>\n      <td>60_85</td>\n      <td>17987</td>\n      <td>63772</td>\n      <td>73604</td>\n      <td>86951</td>\n      <td>75077</td>\n      <td>65850</td>\n      <td>67028</td>\n      <td>64718</td>\n      <td>69997</td>\n    </tr>\n    <tr>\n      <th>9</th>\n      <td>경기도</td>\n      <td>85_100</td>\n      <td>638</td>\n      <td>2393</td>\n      <td>3079</td>\n      <td>3755</td>\n      <td>3081</td>\n      <td>2675</td>\n      <td>2951</td>\n      <td>3153</td>\n      <td>3176</td>\n    </tr>\n    <tr>\n      <th>10</th>\n      <td>경기도</td>\n      <td>100_135</td>\n      <td>5101</td>\n      <td>18020</td>\n      <td>21557</td>\n      <td>25362</td>\n      <td>21818</td>\n      <td>20338</td>\n      <td>21258</td>\n      <td>18309</td>\n      <td>17679</td>\n    </tr>\n    <tr>\n      <th>11</th>\n      <td>경기도</td>\n      <td>135_over</td>\n      <td>1243</td>\n      <td>4807</td>\n      <td>5051</td>\n      <td>5861</td>\n      <td>4943</td>\n      <td>4482</td>\n      <td>5045</td>\n      <td>4299</td>\n      <td>4701</td>\n    </tr>\n  </tbody>\n</table>\n</div>"
     },
     "metadata": {},
     "execution_count": 13
    }
   ],
   "source": [
    "testD = pd.read_csv('sub-data-files/region_size_deal_count.csv')\n",
    "testD.head(12)"
   ]
  },
  {
   "cell_type": "code",
   "execution_count": 14,
   "metadata": {},
   "outputs": [],
   "source": [
    "def get_yyyymm():\n",
    "    query = \"\"\"\n",
    "        SELECT DISTINCT to_char(adp.contract_date, 'YYYYMM') AS ym\n",
    "        FROM apt_deal_price adp\n",
    "        ORDER BY ym ASC\n",
    "        \"\"\"\n",
    "\n",
    "    queD = get_data_from_db(query)\n",
    "    return list(queD['YM'])\n",
    "    "
   ]
  },
  {
   "cell_type": "code",
   "execution_count": 9,
   "metadata": {},
   "outputs": [],
   "source": [
    "# 월별 지역별 전체 매매건수\n",
    "def make_region_deal_count_month():\n",
    "    yyyymm = get_yyyymm()\n",
    "\n",
    "    for ym in yyyymm:\n",
    "\n",
    "        query = f\"\"\"\n",
    "            SELECT adp.region, COUNT(*) AS ym{ym} \n",
    "            FROM apt_deal_price adp \n",
    "            WHERE TO_CHAR(adp.contract_date, 'YYYYMM') = '{ym}' \n",
    "            GROUP BY adp.region \n",
    "            ORDER BY adp.region ASC\n",
    "            \"\"\"\n",
    "\n",
    "        queD = get_data_from_db(query)\n",
    "\n",
    "        if ym == '201208':\n",
    "            dataD = queD.copy()\n",
    "        else:\n",
    "            dataD = dataD.merge(queD, how='left')\n",
    "\n",
    "    dataD.info()\n",
    "    lower_col = dataD.columns.values.tolist()\n",
    "    dataD.columns = [ l.lower() for l in lower_col ]\n",
    "    dataD.to_csv('sub-data-files/region_deal_count_month.csv', index=False, encoding='utf-8-sig')"
   ]
  },
  {
   "cell_type": "code",
   "execution_count": 16,
   "metadata": {
    "tags": []
   },
   "outputs": [],
   "source": [
    "# make_region_deal_count_month()"
   ]
  },
  {
   "cell_type": "code",
   "execution_count": 8,
   "metadata": {},
   "outputs": [
    {
     "output_type": "execute_result",
     "data": {
      "text/plain": "  region  ym201208  ym201209  ym201210  ym201211  ym201212  ym201301  \\\n0    강원도       933      1191      1495      1513      1498      1023   \n1    경기도      5631      8083     10645      9178      8045      7115   \n2   경상남도      1623      2113      3168      3101      2813      2286   \n3   경상북도      1781      2087      2701      2519      2506      1947   \n4  광주광역시      1204      1483      2012      1956      1732      1413   \n\n   ym201302  ym201303  ym201304  ...  ym201910  ym201911  ym201912  ym202001  \\\n0      1227      2383      1660  ...      1343      1377      1751      1439   \n1      8588     13003     14632  ...     18101     20779     20988     20747   \n2      2801      3747      4001  ...      4026      4869      3822      3183   \n3      2324      2837      3134  ...      2549      2514      2400      2193   \n4      1799      2206      2051  ...      2046      2133      2128      1954   \n\n   ym202002  ym202003  ym202004  ym202005  ym202006  ym202007  \n0      1868      1579      1625      1982      2312      1745  \n1     31851     16368     12759     16979     34952     17004  \n2      3704      2625      2633      3376      5764      3563  \n3      2689      1915      2083      3392      3843      2433  \n4      2251      1738      1490      1778      2423      1831  \n\n[5 rows x 97 columns]",
      "text/html": "<div>\n<style scoped>\n    .dataframe tbody tr th:only-of-type {\n        vertical-align: middle;\n    }\n\n    .dataframe tbody tr th {\n        vertical-align: top;\n    }\n\n    .dataframe thead th {\n        text-align: right;\n    }\n</style>\n<table border=\"1\" class=\"dataframe\">\n  <thead>\n    <tr style=\"text-align: right;\">\n      <th></th>\n      <th>region</th>\n      <th>ym201208</th>\n      <th>ym201209</th>\n      <th>ym201210</th>\n      <th>ym201211</th>\n      <th>ym201212</th>\n      <th>ym201301</th>\n      <th>ym201302</th>\n      <th>ym201303</th>\n      <th>ym201304</th>\n      <th>...</th>\n      <th>ym201910</th>\n      <th>ym201911</th>\n      <th>ym201912</th>\n      <th>ym202001</th>\n      <th>ym202002</th>\n      <th>ym202003</th>\n      <th>ym202004</th>\n      <th>ym202005</th>\n      <th>ym202006</th>\n      <th>ym202007</th>\n    </tr>\n  </thead>\n  <tbody>\n    <tr>\n      <th>0</th>\n      <td>강원도</td>\n      <td>933</td>\n      <td>1191</td>\n      <td>1495</td>\n      <td>1513</td>\n      <td>1498</td>\n      <td>1023</td>\n      <td>1227</td>\n      <td>2383</td>\n      <td>1660</td>\n      <td>...</td>\n      <td>1343</td>\n      <td>1377</td>\n      <td>1751</td>\n      <td>1439</td>\n      <td>1868</td>\n      <td>1579</td>\n      <td>1625</td>\n      <td>1982</td>\n      <td>2312</td>\n      <td>1745</td>\n    </tr>\n    <tr>\n      <th>1</th>\n      <td>경기도</td>\n      <td>5631</td>\n      <td>8083</td>\n      <td>10645</td>\n      <td>9178</td>\n      <td>8045</td>\n      <td>7115</td>\n      <td>8588</td>\n      <td>13003</td>\n      <td>14632</td>\n      <td>...</td>\n      <td>18101</td>\n      <td>20779</td>\n      <td>20988</td>\n      <td>20747</td>\n      <td>31851</td>\n      <td>16368</td>\n      <td>12759</td>\n      <td>16979</td>\n      <td>34952</td>\n      <td>17004</td>\n    </tr>\n    <tr>\n      <th>2</th>\n      <td>경상남도</td>\n      <td>1623</td>\n      <td>2113</td>\n      <td>3168</td>\n      <td>3101</td>\n      <td>2813</td>\n      <td>2286</td>\n      <td>2801</td>\n      <td>3747</td>\n      <td>4001</td>\n      <td>...</td>\n      <td>4026</td>\n      <td>4869</td>\n      <td>3822</td>\n      <td>3183</td>\n      <td>3704</td>\n      <td>2625</td>\n      <td>2633</td>\n      <td>3376</td>\n      <td>5764</td>\n      <td>3563</td>\n    </tr>\n    <tr>\n      <th>3</th>\n      <td>경상북도</td>\n      <td>1781</td>\n      <td>2087</td>\n      <td>2701</td>\n      <td>2519</td>\n      <td>2506</td>\n      <td>1947</td>\n      <td>2324</td>\n      <td>2837</td>\n      <td>3134</td>\n      <td>...</td>\n      <td>2549</td>\n      <td>2514</td>\n      <td>2400</td>\n      <td>2193</td>\n      <td>2689</td>\n      <td>1915</td>\n      <td>2083</td>\n      <td>3392</td>\n      <td>3843</td>\n      <td>2433</td>\n    </tr>\n    <tr>\n      <th>4</th>\n      <td>광주광역시</td>\n      <td>1204</td>\n      <td>1483</td>\n      <td>2012</td>\n      <td>1956</td>\n      <td>1732</td>\n      <td>1413</td>\n      <td>1799</td>\n      <td>2206</td>\n      <td>2051</td>\n      <td>...</td>\n      <td>2046</td>\n      <td>2133</td>\n      <td>2128</td>\n      <td>1954</td>\n      <td>2251</td>\n      <td>1738</td>\n      <td>1490</td>\n      <td>1778</td>\n      <td>2423</td>\n      <td>1831</td>\n    </tr>\n  </tbody>\n</table>\n<p>5 rows × 97 columns</p>\n</div>"
     },
     "metadata": {},
     "execution_count": 8
    }
   ],
   "source": [
    "testD = pd.read_csv('sub-data-files/region_deal_count_month.csv')\n",
    "testD.head(5)\n"
   ]
  },
  {
   "cell_type": "code",
   "execution_count": 18,
   "metadata": {},
   "outputs": [],
   "source": [
    "# 월별 지역별 사이즈별 매매건수 데이터 수집\n",
    "def make_region_size_count_month(ym = 201208):\n",
    "    for cond in size_conditions:\n",
    "\n",
    "        query = f\"\"\"\n",
    "            SELECT adp.region AS region, COUNT(adp.apt_size) AS \"{cond[0]}\"\n",
    "            FROM apt_deal_price adp\n",
    "            WHERE to_char(adp.contract_date, 'YYYYMM') = '{ym}' AND {cond[1]}\n",
    "            GROUP BY adp.region\n",
    "            ORDER BY adp.region ASC\n",
    "            \"\"\"\n",
    "\n",
    "        queD = get_data_from_db(query)\n",
    "\n",
    "        if cond[0] == 'under_50':\n",
    "            dataD = queD.copy()\n",
    "        else:\n",
    "            dataD = dataD.merge(queD, how='left')\n",
    "    \n",
    "    # dataD empty 처리\n",
    "\n",
    "    dataD.fillna(0, inplace=True)\n",
    "    dataD = dataD.astype( \\\n",
    "        {'under_50':'int64', '50_60':'int64', '60_85':'int64',\n",
    "        '85_100':'int64', '100_135':'int64', '135_over':'int64'})\n",
    "    \n",
    "    # dataD.info()\n",
    "\n",
    "    dataD.set_index('REGION', inplace=True)\n",
    "    data_list = dataD.values.reshape(len(region_table1) * len(size_conditions), )\n",
    "\n",
    "    return data_list"
   ]
  },
  {
   "cell_type": "code",
   "execution_count": 19,
   "metadata": {},
   "outputs": [],
   "source": [
    "# 월별 지역별 사이즈별 매매건수 데이터 만들기\n",
    "def complete_region_size_count():\n",
    "    yyyymm = get_yyyymm()\n",
    "    col_ym = [ 'ym' + y for y in yyyymm ]\n",
    "    col_apt_size_month = ['region', 'apt_size']\n",
    "    col_apt_size_month += col_ym\n",
    "\n",
    "    # 최종 데이터 테이블 형태 만들기\n",
    "    row_count = len(region_table1) * len(size_conditions)\n",
    "    col_count = len(col_apt_size_month)\n",
    "    allD = pd.DataFrame(np.zeros((row_count, col_count), dtype='int64'), columns=col_apt_size_month)\n",
    "\n",
    "    size_list = [ x[0] for x in size_conditions ]\n",
    "    allD['apt_size'] = size_list * len(region_table1)\n",
    "\n",
    "    region_list = []\n",
    "    for r in region_table1:\n",
    "        region_list.extend([r] * len(size_conditions))\n",
    "    allD['region'] = region_list\n",
    "\n",
    "    # 년도별 데이터 수집\n",
    "    for ym in yyyymm:\n",
    "        data_list = make_region_size_count_month(ym)\n",
    "        allD['ym' + ym] = data_list\n",
    "        \n",
    "    allD.info()\n",
    "    allD.to_csv('sub-data-files/region_size_deal_count_month.csv', index=False, encoding='utf-8-sig')"
   ]
  },
  {
   "cell_type": "code",
   "execution_count": 20,
   "metadata": {
    "tags": []
   },
   "outputs": [],
   "source": [
    "# 1시간 정도 걸림\n",
    "# complete_region_size_count()"
   ]
  },
  {
   "cell_type": "code",
   "execution_count": 21,
   "metadata": {},
   "outputs": [
    {
     "output_type": "execute_result",
     "data": {
      "text/plain": "  region  apt_size  ym201208  ym201209  ym201210  ym201211  ym201212  \\\n0    강원도  under_50       229       239       357       439       481   \n1    강원도     50_60       296       470       540       466       392   \n2    강원도     60_85       318       362       452       455       476   \n3    강원도    85_100         7        14        23        11        20   \n4    강원도   100_135        63        79       100       112        78   \n5    강원도  135_over        20        27        23        30        51   \n\n   ym201301  ym201302  ym201303  ...  ym201910  ym201911  ym201912  ym202001  \\\n0       231       268      1120  ...       237       217       240       224   \n1       371       467       569  ...       415       483       469       441   \n2       325       395       561  ...       587       555       924       649   \n3         9        15        13  ...        10        19        19        18   \n4        66        63        91  ...        81        84        83        90   \n5        21        19        29  ...        13        19        16        17   \n\n   ym202002  ym202003  ym202004  ym202005  ym202006  ym202007  \n0       351       292       278       358       383       336  \n1       603       526       599       672       735       563  \n2       756       630       630       790      1007       682  \n3        24        22        16        18        30        32  \n4       109        86        79       115       122       103  \n5        25        23        23        29        35        29  \n\n[6 rows x 98 columns]",
      "text/html": "<div>\n<style scoped>\n    .dataframe tbody tr th:only-of-type {\n        vertical-align: middle;\n    }\n\n    .dataframe tbody tr th {\n        vertical-align: top;\n    }\n\n    .dataframe thead th {\n        text-align: right;\n    }\n</style>\n<table border=\"1\" class=\"dataframe\">\n  <thead>\n    <tr style=\"text-align: right;\">\n      <th></th>\n      <th>region</th>\n      <th>apt_size</th>\n      <th>ym201208</th>\n      <th>ym201209</th>\n      <th>ym201210</th>\n      <th>ym201211</th>\n      <th>ym201212</th>\n      <th>ym201301</th>\n      <th>ym201302</th>\n      <th>ym201303</th>\n      <th>...</th>\n      <th>ym201910</th>\n      <th>ym201911</th>\n      <th>ym201912</th>\n      <th>ym202001</th>\n      <th>ym202002</th>\n      <th>ym202003</th>\n      <th>ym202004</th>\n      <th>ym202005</th>\n      <th>ym202006</th>\n      <th>ym202007</th>\n    </tr>\n  </thead>\n  <tbody>\n    <tr>\n      <th>0</th>\n      <td>강원도</td>\n      <td>under_50</td>\n      <td>229</td>\n      <td>239</td>\n      <td>357</td>\n      <td>439</td>\n      <td>481</td>\n      <td>231</td>\n      <td>268</td>\n      <td>1120</td>\n      <td>...</td>\n      <td>237</td>\n      <td>217</td>\n      <td>240</td>\n      <td>224</td>\n      <td>351</td>\n      <td>292</td>\n      <td>278</td>\n      <td>358</td>\n      <td>383</td>\n      <td>336</td>\n    </tr>\n    <tr>\n      <th>1</th>\n      <td>강원도</td>\n      <td>50_60</td>\n      <td>296</td>\n      <td>470</td>\n      <td>540</td>\n      <td>466</td>\n      <td>392</td>\n      <td>371</td>\n      <td>467</td>\n      <td>569</td>\n      <td>...</td>\n      <td>415</td>\n      <td>483</td>\n      <td>469</td>\n      <td>441</td>\n      <td>603</td>\n      <td>526</td>\n      <td>599</td>\n      <td>672</td>\n      <td>735</td>\n      <td>563</td>\n    </tr>\n    <tr>\n      <th>2</th>\n      <td>강원도</td>\n      <td>60_85</td>\n      <td>318</td>\n      <td>362</td>\n      <td>452</td>\n      <td>455</td>\n      <td>476</td>\n      <td>325</td>\n      <td>395</td>\n      <td>561</td>\n      <td>...</td>\n      <td>587</td>\n      <td>555</td>\n      <td>924</td>\n      <td>649</td>\n      <td>756</td>\n      <td>630</td>\n      <td>630</td>\n      <td>790</td>\n      <td>1007</td>\n      <td>682</td>\n    </tr>\n    <tr>\n      <th>3</th>\n      <td>강원도</td>\n      <td>85_100</td>\n      <td>7</td>\n      <td>14</td>\n      <td>23</td>\n      <td>11</td>\n      <td>20</td>\n      <td>9</td>\n      <td>15</td>\n      <td>13</td>\n      <td>...</td>\n      <td>10</td>\n      <td>19</td>\n      <td>19</td>\n      <td>18</td>\n      <td>24</td>\n      <td>22</td>\n      <td>16</td>\n      <td>18</td>\n      <td>30</td>\n      <td>32</td>\n    </tr>\n    <tr>\n      <th>4</th>\n      <td>강원도</td>\n      <td>100_135</td>\n      <td>63</td>\n      <td>79</td>\n      <td>100</td>\n      <td>112</td>\n      <td>78</td>\n      <td>66</td>\n      <td>63</td>\n      <td>91</td>\n      <td>...</td>\n      <td>81</td>\n      <td>84</td>\n      <td>83</td>\n      <td>90</td>\n      <td>109</td>\n      <td>86</td>\n      <td>79</td>\n      <td>115</td>\n      <td>122</td>\n      <td>103</td>\n    </tr>\n    <tr>\n      <th>5</th>\n      <td>강원도</td>\n      <td>135_over</td>\n      <td>20</td>\n      <td>27</td>\n      <td>23</td>\n      <td>30</td>\n      <td>51</td>\n      <td>21</td>\n      <td>19</td>\n      <td>29</td>\n      <td>...</td>\n      <td>13</td>\n      <td>19</td>\n      <td>16</td>\n      <td>17</td>\n      <td>25</td>\n      <td>23</td>\n      <td>23</td>\n      <td>29</td>\n      <td>35</td>\n      <td>29</td>\n    </tr>\n  </tbody>\n</table>\n<p>6 rows × 98 columns</p>\n</div>"
     },
     "metadata": {},
     "execution_count": 21
    }
   ],
   "source": [
    "testD = pd.read_csv('sub-data-files/region_size_deal_count_month.csv')\n",
    "testD.head(6)"
   ]
  },
  {
   "cell_type": "code",
   "execution_count": 15,
   "metadata": {},
   "outputs": [],
   "source": [
    "# 년도별 지역별 평균 평당 가격\n",
    "def make_region_avg_price_per_pyung():\n",
    "    for year in time_table2:\n",
    "\n",
    "        query = f\"\"\"\n",
    "            SELECT adp.region, round(AVG(adp.price_per_pyung)) AS y{year}\n",
    "            FROM (SELECT A.region, (A.contract_price / (A.apt_size / 3.3)) price_per_pyung\n",
    "                  FROM apt_deal_price A\n",
    "                  WHERE to_char(A.contract_date, 'YYYY') = '{year}') adp\n",
    "            GROUP BY adp.region\n",
    "            ORDER BY adp.region ASC\n",
    "            \"\"\"\n",
    "\n",
    "        queD = get_data_from_db(query)\n",
    "\n",
    "        if year == '2012':\n",
    "            dataD = queD.copy()\n",
    "        else:\n",
    "            dataD = dataD.merge(queD, how='left')\n",
    "\n",
    "    dataD.info()\n",
    "    lower_col = dataD.columns.values.tolist()\n",
    "    dataD.columns = [ l.lower() for l in lower_col ]\n",
    "    dataD.to_csv('sub-data-files/region_avg_price_per_pyung.csv', index=False, encoding='utf-8-sig')"
   ]
  },
  {
   "cell_type": "code",
   "execution_count": 23,
   "metadata": {
    "tags": []
   },
   "outputs": [],
   "source": [
    "# make_region_avg_price_per_pyung()"
   ]
  },
  {
   "cell_type": "code",
   "execution_count": 18,
   "metadata": {},
   "outputs": [
    {
     "output_type": "execute_result",
     "data": {
      "text/plain": "     region     y2012     y2013     y2014     y2015     y2016     y2017  \\\n0       강원도   5017704   5073569   5244047   5697026   6288439   6610171   \n1       경기도  10268867  10721242  11194598  11861218  12768256  13887902   \n2      경상남도   7049242   7580157   8063321   8177517   8115336   8054941   \n3      경상북도   5154609   5510731   6015412   6365920   6152243   6295791   \n4     광주광역시   6159958   6387516   6988350   7665966   8172572   8712565   \n5     대구광역시   7630697   8177568   9304979  10538937  10625995  11316737   \n6     대전광역시   7994548   8229245   8379888   8445784   8762061   9130145   \n7     부산광역시   8955963   8681508   9182984   9920745  11047033  11730806   \n8     서울특별시  18912444  18659223  19201809  20206966  22287993  25421426   \n9   세종특별자치시   6241319   6168699   7381741   9044967  10432436  11415572   \n10    울산광역시   8549304   8525141   8730972   9411367  10178393  10272408   \n11    인천광역시   9012400   9044267   9559661  10024058  10746249  11223117   \n12     전라남도   4641582   5102109   5174298   5352663   5489391   6037071   \n13     전라북도   5305825   5742993   5828642   6007848   6150680   6337203   \n14  제주특별자치도   6960907   7490321   7921811   9639861  11929400  12991006   \n15     충청남도   6272607   6729618   7042029   7088800   6936223   6949639   \n16     충청북도   6468944   6342768   6717526   6803101   6644025   6724251   \n\n       y2018     y2019     y2020  \n0    6572811   6470442   6895954  \n1   14639393  15421171  15659928  \n2    7964061   8358840   9254155  \n3    6194193   6360006   6903557  \n4    9219905   9511984  10086411  \n5   11834449  11919879  12458865  \n6    9834420  10633223  11737035  \n7   11791791  13086323  13951932  \n8   27119611  34400559  33660626  \n9   12988359  15411576  17264926  \n10   9722977  10320963  11368712  \n11  11616445  12077865  12964064  \n12   6342887   6581690   6929461  \n13   6599338   6601301   7208466  \n14  12563689  12687691  12974835  \n15   7097180   7924791   8205053  \n16   6682570   7070350   7635677  ",
      "text/html": "<div>\n<style scoped>\n    .dataframe tbody tr th:only-of-type {\n        vertical-align: middle;\n    }\n\n    .dataframe tbody tr th {\n        vertical-align: top;\n    }\n\n    .dataframe thead th {\n        text-align: right;\n    }\n</style>\n<table border=\"1\" class=\"dataframe\">\n  <thead>\n    <tr style=\"text-align: right;\">\n      <th></th>\n      <th>region</th>\n      <th>y2012</th>\n      <th>y2013</th>\n      <th>y2014</th>\n      <th>y2015</th>\n      <th>y2016</th>\n      <th>y2017</th>\n      <th>y2018</th>\n      <th>y2019</th>\n      <th>y2020</th>\n    </tr>\n  </thead>\n  <tbody>\n    <tr>\n      <th>0</th>\n      <td>강원도</td>\n      <td>5017704</td>\n      <td>5073569</td>\n      <td>5244047</td>\n      <td>5697026</td>\n      <td>6288439</td>\n      <td>6610171</td>\n      <td>6572811</td>\n      <td>6470442</td>\n      <td>6895954</td>\n    </tr>\n    <tr>\n      <th>1</th>\n      <td>경기도</td>\n      <td>10268867</td>\n      <td>10721242</td>\n      <td>11194598</td>\n      <td>11861218</td>\n      <td>12768256</td>\n      <td>13887902</td>\n      <td>14639393</td>\n      <td>15421171</td>\n      <td>15659928</td>\n    </tr>\n    <tr>\n      <th>2</th>\n      <td>경상남도</td>\n      <td>7049242</td>\n      <td>7580157</td>\n      <td>8063321</td>\n      <td>8177517</td>\n      <td>8115336</td>\n      <td>8054941</td>\n      <td>7964061</td>\n      <td>8358840</td>\n      <td>9254155</td>\n    </tr>\n    <tr>\n      <th>3</th>\n      <td>경상북도</td>\n      <td>5154609</td>\n      <td>5510731</td>\n      <td>6015412</td>\n      <td>6365920</td>\n      <td>6152243</td>\n      <td>6295791</td>\n      <td>6194193</td>\n      <td>6360006</td>\n      <td>6903557</td>\n    </tr>\n    <tr>\n      <th>4</th>\n      <td>광주광역시</td>\n      <td>6159958</td>\n      <td>6387516</td>\n      <td>6988350</td>\n      <td>7665966</td>\n      <td>8172572</td>\n      <td>8712565</td>\n      <td>9219905</td>\n      <td>9511984</td>\n      <td>10086411</td>\n    </tr>\n    <tr>\n      <th>5</th>\n      <td>대구광역시</td>\n      <td>7630697</td>\n      <td>8177568</td>\n      <td>9304979</td>\n      <td>10538937</td>\n      <td>10625995</td>\n      <td>11316737</td>\n      <td>11834449</td>\n      <td>11919879</td>\n      <td>12458865</td>\n    </tr>\n    <tr>\n      <th>6</th>\n      <td>대전광역시</td>\n      <td>7994548</td>\n      <td>8229245</td>\n      <td>8379888</td>\n      <td>8445784</td>\n      <td>8762061</td>\n      <td>9130145</td>\n      <td>9834420</td>\n      <td>10633223</td>\n      <td>11737035</td>\n    </tr>\n    <tr>\n      <th>7</th>\n      <td>부산광역시</td>\n      <td>8955963</td>\n      <td>8681508</td>\n      <td>9182984</td>\n      <td>9920745</td>\n      <td>11047033</td>\n      <td>11730806</td>\n      <td>11791791</td>\n      <td>13086323</td>\n      <td>13951932</td>\n    </tr>\n    <tr>\n      <th>8</th>\n      <td>서울특별시</td>\n      <td>18912444</td>\n      <td>18659223</td>\n      <td>19201809</td>\n      <td>20206966</td>\n      <td>22287993</td>\n      <td>25421426</td>\n      <td>27119611</td>\n      <td>34400559</td>\n      <td>33660626</td>\n    </tr>\n    <tr>\n      <th>9</th>\n      <td>세종특별자치시</td>\n      <td>6241319</td>\n      <td>6168699</td>\n      <td>7381741</td>\n      <td>9044967</td>\n      <td>10432436</td>\n      <td>11415572</td>\n      <td>12988359</td>\n      <td>15411576</td>\n      <td>17264926</td>\n    </tr>\n    <tr>\n      <th>10</th>\n      <td>울산광역시</td>\n      <td>8549304</td>\n      <td>8525141</td>\n      <td>8730972</td>\n      <td>9411367</td>\n      <td>10178393</td>\n      <td>10272408</td>\n      <td>9722977</td>\n      <td>10320963</td>\n      <td>11368712</td>\n    </tr>\n    <tr>\n      <th>11</th>\n      <td>인천광역시</td>\n      <td>9012400</td>\n      <td>9044267</td>\n      <td>9559661</td>\n      <td>10024058</td>\n      <td>10746249</td>\n      <td>11223117</td>\n      <td>11616445</td>\n      <td>12077865</td>\n      <td>12964064</td>\n    </tr>\n    <tr>\n      <th>12</th>\n      <td>전라남도</td>\n      <td>4641582</td>\n      <td>5102109</td>\n      <td>5174298</td>\n      <td>5352663</td>\n      <td>5489391</td>\n      <td>6037071</td>\n      <td>6342887</td>\n      <td>6581690</td>\n      <td>6929461</td>\n    </tr>\n    <tr>\n      <th>13</th>\n      <td>전라북도</td>\n      <td>5305825</td>\n      <td>5742993</td>\n      <td>5828642</td>\n      <td>6007848</td>\n      <td>6150680</td>\n      <td>6337203</td>\n      <td>6599338</td>\n      <td>6601301</td>\n      <td>7208466</td>\n    </tr>\n    <tr>\n      <th>14</th>\n      <td>제주특별자치도</td>\n      <td>6960907</td>\n      <td>7490321</td>\n      <td>7921811</td>\n      <td>9639861</td>\n      <td>11929400</td>\n      <td>12991006</td>\n      <td>12563689</td>\n      <td>12687691</td>\n      <td>12974835</td>\n    </tr>\n    <tr>\n      <th>15</th>\n      <td>충청남도</td>\n      <td>6272607</td>\n      <td>6729618</td>\n      <td>7042029</td>\n      <td>7088800</td>\n      <td>6936223</td>\n      <td>6949639</td>\n      <td>7097180</td>\n      <td>7924791</td>\n      <td>8205053</td>\n    </tr>\n    <tr>\n      <th>16</th>\n      <td>충청북도</td>\n      <td>6468944</td>\n      <td>6342768</td>\n      <td>6717526</td>\n      <td>6803101</td>\n      <td>6644025</td>\n      <td>6724251</td>\n      <td>6682570</td>\n      <td>7070350</td>\n      <td>7635677</td>\n    </tr>\n  </tbody>\n</table>\n</div>"
     },
     "metadata": {},
     "execution_count": 18
    }
   ],
   "source": [
    "testD = pd.read_csv('sub-data-files/region_avg_price_per_pyung.csv')\n",
    "testD"
   ]
  },
  {
   "cell_type": "code",
   "execution_count": 14,
   "metadata": {},
   "outputs": [],
   "source": [
    "# 월별 지역별 평균 평당 가격\n",
    "def make_region_avg_price_per_pyung_month():\n",
    "    yyyymm = get_yyyymm()\n",
    "\n",
    "    for ym in yyyymm:\n",
    "\n",
    "        query = f\"\"\"\n",
    "            SELECT adp.region, round(AVG(adp.price_per_pyung)) AS ym{ym}\n",
    "            FROM (SELECT A.region, (A.contract_price / (A.apt_size / 3.3)) price_per_pyung\n",
    "                  FROM apt_deal_price A\n",
    "                  WHERE to_char(A.contract_date, 'YYYYMM') = '{ym}') adp\n",
    "            GROUP BY adp.region\n",
    "            ORDER BY adp.region ASC\n",
    "            \"\"\"\n",
    "\n",
    "        queD = get_data_from_db(query)\n",
    "\n",
    "        if ym == '201208':\n",
    "            dataD = queD.copy()\n",
    "        else:\n",
    "            dataD = dataD.merge(queD, how='left')\n",
    "\n",
    "    dataD.info()\n",
    "    lower_col = dataD.columns.values.tolist()\n",
    "    dataD.columns = [ l.lower() for l in lower_col ]\n",
    "    dataD.to_csv('sub-data-files/region_avg_price_per_pyung_month.csv', index=False, encoding='utf-8-sig')"
   ]
  },
  {
   "cell_type": "code",
   "execution_count": 26,
   "metadata": {
    "tags": []
   },
   "outputs": [],
   "source": [
    "# make_region_avg_price_per_pyung_month()"
   ]
  },
  {
   "cell_type": "code",
   "execution_count": 13,
   "metadata": {},
   "outputs": [
    {
     "output_type": "execute_result",
     "data": {
      "text/plain": "  region  ym201208  ym201209  ym201210  ym201211  ym201212  ym201301  \\\n0    강원도   5119250   5095286   4998207   4991621   4938578   5095420   \n1    경기도   9775160  10125170  10421214  10398610  10409208  10238318   \n2   경상남도   6881622   7086819   7188409   7023321   6989572   7291461   \n3   경상북도   5103845   5202156   5234563   5226411   4992737   5261965   \n4  광주광역시   5988665   6194381   6151116   6209057   6204378   6202909   \n\n   ym201302  ym201303  ym201304  ...  ym201910  ym201911  ym201912  ym202001  \\\n0   5105624   4545184   5075322  ...   6506124   6513893   6946799   6742633   \n1  10351601  10466027  10549645  ...  16601336  17185471  16412237  15685046   \n2   7225936   7359711   7608994  ...   9037953   9391425   8759668   9078625   \n3   5331156   5312663   5281205  ...   6669935   6807977   6744104   6796241   \n4   6242817   6222630   6185710  ...   9712906   9993954  10268687  10447595   \n\n   ym202002  ym202003  ym202004  ym202005  ym202006  ym202007  \n0   6690813   6620664   6526321   6865083   7441503   7147556  \n1  15325904  14077135  13613289  14859319  17084424  17185610  \n2   8667616   8114775   8141990   8940838  10604776   9793935  \n3   6780109   6594742   6362860   7034261   7428216   6831766  \n4  10017985   9695587   9420916   9720282  10538647  10454689  \n\n[5 rows x 97 columns]",
      "text/html": "<div>\n<style scoped>\n    .dataframe tbody tr th:only-of-type {\n        vertical-align: middle;\n    }\n\n    .dataframe tbody tr th {\n        vertical-align: top;\n    }\n\n    .dataframe thead th {\n        text-align: right;\n    }\n</style>\n<table border=\"1\" class=\"dataframe\">\n  <thead>\n    <tr style=\"text-align: right;\">\n      <th></th>\n      <th>region</th>\n      <th>ym201208</th>\n      <th>ym201209</th>\n      <th>ym201210</th>\n      <th>ym201211</th>\n      <th>ym201212</th>\n      <th>ym201301</th>\n      <th>ym201302</th>\n      <th>ym201303</th>\n      <th>ym201304</th>\n      <th>...</th>\n      <th>ym201910</th>\n      <th>ym201911</th>\n      <th>ym201912</th>\n      <th>ym202001</th>\n      <th>ym202002</th>\n      <th>ym202003</th>\n      <th>ym202004</th>\n      <th>ym202005</th>\n      <th>ym202006</th>\n      <th>ym202007</th>\n    </tr>\n  </thead>\n  <tbody>\n    <tr>\n      <th>0</th>\n      <td>강원도</td>\n      <td>5119250</td>\n      <td>5095286</td>\n      <td>4998207</td>\n      <td>4991621</td>\n      <td>4938578</td>\n      <td>5095420</td>\n      <td>5105624</td>\n      <td>4545184</td>\n      <td>5075322</td>\n      <td>...</td>\n      <td>6506124</td>\n      <td>6513893</td>\n      <td>6946799</td>\n      <td>6742633</td>\n      <td>6690813</td>\n      <td>6620664</td>\n      <td>6526321</td>\n      <td>6865083</td>\n      <td>7441503</td>\n      <td>7147556</td>\n    </tr>\n    <tr>\n      <th>1</th>\n      <td>경기도</td>\n      <td>9775160</td>\n      <td>10125170</td>\n      <td>10421214</td>\n      <td>10398610</td>\n      <td>10409208</td>\n      <td>10238318</td>\n      <td>10351601</td>\n      <td>10466027</td>\n      <td>10549645</td>\n      <td>...</td>\n      <td>16601336</td>\n      <td>17185471</td>\n      <td>16412237</td>\n      <td>15685046</td>\n      <td>15325904</td>\n      <td>14077135</td>\n      <td>13613289</td>\n      <td>14859319</td>\n      <td>17084424</td>\n      <td>17185610</td>\n    </tr>\n    <tr>\n      <th>2</th>\n      <td>경상남도</td>\n      <td>6881622</td>\n      <td>7086819</td>\n      <td>7188409</td>\n      <td>7023321</td>\n      <td>6989572</td>\n      <td>7291461</td>\n      <td>7225936</td>\n      <td>7359711</td>\n      <td>7608994</td>\n      <td>...</td>\n      <td>9037953</td>\n      <td>9391425</td>\n      <td>8759668</td>\n      <td>9078625</td>\n      <td>8667616</td>\n      <td>8114775</td>\n      <td>8141990</td>\n      <td>8940838</td>\n      <td>10604776</td>\n      <td>9793935</td>\n    </tr>\n    <tr>\n      <th>3</th>\n      <td>경상북도</td>\n      <td>5103845</td>\n      <td>5202156</td>\n      <td>5234563</td>\n      <td>5226411</td>\n      <td>4992737</td>\n      <td>5261965</td>\n      <td>5331156</td>\n      <td>5312663</td>\n      <td>5281205</td>\n      <td>...</td>\n      <td>6669935</td>\n      <td>6807977</td>\n      <td>6744104</td>\n      <td>6796241</td>\n      <td>6780109</td>\n      <td>6594742</td>\n      <td>6362860</td>\n      <td>7034261</td>\n      <td>7428216</td>\n      <td>6831766</td>\n    </tr>\n    <tr>\n      <th>4</th>\n      <td>광주광역시</td>\n      <td>5988665</td>\n      <td>6194381</td>\n      <td>6151116</td>\n      <td>6209057</td>\n      <td>6204378</td>\n      <td>6202909</td>\n      <td>6242817</td>\n      <td>6222630</td>\n      <td>6185710</td>\n      <td>...</td>\n      <td>9712906</td>\n      <td>9993954</td>\n      <td>10268687</td>\n      <td>10447595</td>\n      <td>10017985</td>\n      <td>9695587</td>\n      <td>9420916</td>\n      <td>9720282</td>\n      <td>10538647</td>\n      <td>10454689</td>\n    </tr>\n  </tbody>\n</table>\n<p>5 rows × 97 columns</p>\n</div>"
     },
     "metadata": {},
     "execution_count": 13
    }
   ],
   "source": [
    "testD = pd.read_csv('sub-data-files/region_avg_price_per_pyung_month.csv')\n",
    "testD.head(5)\n"
   ]
  },
  {
   "cell_type": "code",
   "execution_count": 28,
   "metadata": {},
   "outputs": [],
   "source": [
    "# 지역별 사이즈별 평균 평당 가격\n",
    "def make_region_size_per_pyung(year = 2012):\n",
    "    for cond in size_conditions2:\n",
    "\n",
    "        query = f\"\"\"\n",
    "            SELECT adp.region, round(AVG(adp.price_per_pyung)) AS \"{cond[0]}\"\n",
    "            FROM (SELECT A.region, (A.contract_price / (A.apt_size / 3.3)) price_per_pyung\n",
    "                  FROM apt_deal_price A\n",
    "                  WHERE to_char(A.contract_date, 'YYYY') = '{year}' AND {cond[1]}) adp\n",
    "            GROUP BY adp.region\n",
    "            ORDER BY adp.region ASC\n",
    "            \"\"\"\n",
    "\n",
    "        queD = get_data_from_db(query)\n",
    "\n",
    "        if cond[0] == 'under_50':\n",
    "            dataD = queD.copy()\n",
    "        else:\n",
    "            dataD = dataD.merge(queD, how='left')\n",
    "        \n",
    "    dataD.fillna(0, inplace=True)\n",
    "    dataD = dataD.astype( \\\n",
    "        {'under_50':'int64', '50_60':'int64', '60_85':'int64',\n",
    "        '85_100':'int64', '100_135':'int64', '135_over':'int64'})\n",
    "    \n",
    "    # dataD.info()\n",
    "\n",
    "    dataD.set_index('REGION', inplace=True)\n",
    "    data_list = dataD.values.reshape(len(region_table1) * len(size_conditions2), )\n",
    "\n",
    "    return data_list"
   ]
  },
  {
   "cell_type": "code",
   "execution_count": 31,
   "metadata": {},
   "outputs": [],
   "source": [
    "# 년도별 지역별 사이즈별 평균 평당 가격 데이터 만들기\n",
    "def complete_region_size_avg_price_per_pyung():\n",
    "\n",
    "    # 최종 데이터 테이블 형태 만들기\n",
    "    row_count = len(region_table1) * len(size_conditions2)\n",
    "    col_count = len(col_apt_size_data)\n",
    "    allD = pd.DataFrame(np.zeros((row_count, col_count), dtype='int64'), columns=col_apt_size_data)\n",
    "\n",
    "    size_list = [ x[0] for x in size_conditions ]\n",
    "    allD['apt_size'] = size_list * len(region_table1)\n",
    "\n",
    "    region_list = []\n",
    "    for r in region_table1:\n",
    "        region_list.extend([r] * len(size_conditions2))\n",
    "    allD['region'] = region_list\n",
    "\n",
    "    # 년도별 데이터 수집\n",
    "    for year in time_table2:\n",
    "        data_list = make_region_size_per_pyung(year)\n",
    "        allD['y' + year] = data_list\n",
    "        \n",
    "    allD.info()\n",
    "    allD.to_csv('sub-data-files/region_size_avg_price_per_pyung.csv', index=False, encoding='utf-8-sig')"
   ]
  },
  {
   "cell_type": "code",
   "execution_count": 32,
   "metadata": {
    "tags": []
   },
   "outputs": [
    {
     "output_type": "stream",
     "name": "stdout",
     "text": "<class 'pandas.core.frame.DataFrame'>\nRangeIndex: 102 entries, 0 to 101\nData columns (total 11 columns):\n #   Column    Non-Null Count  Dtype \n---  ------    --------------  ----- \n 0   region    102 non-null    object\n 1   apt_size  102 non-null    object\n 2   y2012     102 non-null    int64 \n 3   y2013     102 non-null    int64 \n 4   y2014     102 non-null    int64 \n 5   y2015     102 non-null    int64 \n 6   y2016     102 non-null    int64 \n 7   y2017     102 non-null    int64 \n 8   y2018     102 non-null    int64 \n 9   y2019     102 non-null    int64 \n 10  y2020     102 non-null    int64 \ndtypes: int64(9), object(2)\nmemory usage: 8.9+ KB\n"
    }
   ],
   "source": [
    "# complete_region_size_avg_price_per_pyung()"
   ]
  },
  {
   "cell_type": "code",
   "execution_count": 34,
   "metadata": {},
   "outputs": [
    {
     "output_type": "execute_result",
     "data": {
      "text/plain": "   region  apt_size     y2012     y2013     y2014     y2015     y2016  \\\n0     강원도  under_50   3834824   3930871   4194376   4435724   5019125   \n1     강원도     50_60   5035603   5157185   5259505   5625213   6235641   \n2     강원도     60_85   5671159   5888292   5937993   6421464   7077037   \n3     강원도    85_100   6053554   6116621   6405393   6627079   7321626   \n4     강원도   100_135   6059070   5874995   6047482   6335626   6733753   \n5     강원도  135_over   6009470   5435167   5699527   5954606   6343648   \n6     경기도  under_50  10062621  10766882  11287985  12290707  13432154   \n7     경기도     50_60   9987100  10606181  11227112  11981337  12906303   \n8     경기도     60_85  10210120  10584366  11038438  11670396  12565168   \n9     경기도    85_100  10522374  11831791  11778145  12440266  13726847   \n10    경기도   100_135  11045072  11267439  11552981  11873022  12587492   \n11    경기도  135_over  11248392  10743649  10862517  11257425  11597836   \n\n       y2017     y2018     y2019     y2020  \n0    5274994   5190360   4847307   4899397  \n1    6711159   6508426   6126538   6428878  \n2    7371753   7331259   7408028   8041103  \n3    7739430   8348195   7355994   8352011  \n4    7191388   7167794   6703160   7244900  \n5    6945226   7084828   6577520   6897619  \n6   14414160  15147142  14816804  15911273  \n7   14069483  14968033  15826207  16390992  \n8   13715817  14502582  15359781  15441251  \n9   14661255  15657482  17870889  17327268  \n10  13808392  14343570  15404152  14971804  \n11  12312264  12872036  13509718  13476191  ",
      "text/html": "<div>\n<style scoped>\n    .dataframe tbody tr th:only-of-type {\n        vertical-align: middle;\n    }\n\n    .dataframe tbody tr th {\n        vertical-align: top;\n    }\n\n    .dataframe thead th {\n        text-align: right;\n    }\n</style>\n<table border=\"1\" class=\"dataframe\">\n  <thead>\n    <tr style=\"text-align: right;\">\n      <th></th>\n      <th>region</th>\n      <th>apt_size</th>\n      <th>y2012</th>\n      <th>y2013</th>\n      <th>y2014</th>\n      <th>y2015</th>\n      <th>y2016</th>\n      <th>y2017</th>\n      <th>y2018</th>\n      <th>y2019</th>\n      <th>y2020</th>\n    </tr>\n  </thead>\n  <tbody>\n    <tr>\n      <th>0</th>\n      <td>강원도</td>\n      <td>under_50</td>\n      <td>3834824</td>\n      <td>3930871</td>\n      <td>4194376</td>\n      <td>4435724</td>\n      <td>5019125</td>\n      <td>5274994</td>\n      <td>5190360</td>\n      <td>4847307</td>\n      <td>4899397</td>\n    </tr>\n    <tr>\n      <th>1</th>\n      <td>강원도</td>\n      <td>50_60</td>\n      <td>5035603</td>\n      <td>5157185</td>\n      <td>5259505</td>\n      <td>5625213</td>\n      <td>6235641</td>\n      <td>6711159</td>\n      <td>6508426</td>\n      <td>6126538</td>\n      <td>6428878</td>\n    </tr>\n    <tr>\n      <th>2</th>\n      <td>강원도</td>\n      <td>60_85</td>\n      <td>5671159</td>\n      <td>5888292</td>\n      <td>5937993</td>\n      <td>6421464</td>\n      <td>7077037</td>\n      <td>7371753</td>\n      <td>7331259</td>\n      <td>7408028</td>\n      <td>8041103</td>\n    </tr>\n    <tr>\n      <th>3</th>\n      <td>강원도</td>\n      <td>85_100</td>\n      <td>6053554</td>\n      <td>6116621</td>\n      <td>6405393</td>\n      <td>6627079</td>\n      <td>7321626</td>\n      <td>7739430</td>\n      <td>8348195</td>\n      <td>7355994</td>\n      <td>8352011</td>\n    </tr>\n    <tr>\n      <th>4</th>\n      <td>강원도</td>\n      <td>100_135</td>\n      <td>6059070</td>\n      <td>5874995</td>\n      <td>6047482</td>\n      <td>6335626</td>\n      <td>6733753</td>\n      <td>7191388</td>\n      <td>7167794</td>\n      <td>6703160</td>\n      <td>7244900</td>\n    </tr>\n    <tr>\n      <th>5</th>\n      <td>강원도</td>\n      <td>135_over</td>\n      <td>6009470</td>\n      <td>5435167</td>\n      <td>5699527</td>\n      <td>5954606</td>\n      <td>6343648</td>\n      <td>6945226</td>\n      <td>7084828</td>\n      <td>6577520</td>\n      <td>6897619</td>\n    </tr>\n    <tr>\n      <th>6</th>\n      <td>경기도</td>\n      <td>under_50</td>\n      <td>10062621</td>\n      <td>10766882</td>\n      <td>11287985</td>\n      <td>12290707</td>\n      <td>13432154</td>\n      <td>14414160</td>\n      <td>15147142</td>\n      <td>14816804</td>\n      <td>15911273</td>\n    </tr>\n    <tr>\n      <th>7</th>\n      <td>경기도</td>\n      <td>50_60</td>\n      <td>9987100</td>\n      <td>10606181</td>\n      <td>11227112</td>\n      <td>11981337</td>\n      <td>12906303</td>\n      <td>14069483</td>\n      <td>14968033</td>\n      <td>15826207</td>\n      <td>16390992</td>\n    </tr>\n    <tr>\n      <th>8</th>\n      <td>경기도</td>\n      <td>60_85</td>\n      <td>10210120</td>\n      <td>10584366</td>\n      <td>11038438</td>\n      <td>11670396</td>\n      <td>12565168</td>\n      <td>13715817</td>\n      <td>14502582</td>\n      <td>15359781</td>\n      <td>15441251</td>\n    </tr>\n    <tr>\n      <th>9</th>\n      <td>경기도</td>\n      <td>85_100</td>\n      <td>10522374</td>\n      <td>11831791</td>\n      <td>11778145</td>\n      <td>12440266</td>\n      <td>13726847</td>\n      <td>14661255</td>\n      <td>15657482</td>\n      <td>17870889</td>\n      <td>17327268</td>\n    </tr>\n    <tr>\n      <th>10</th>\n      <td>경기도</td>\n      <td>100_135</td>\n      <td>11045072</td>\n      <td>11267439</td>\n      <td>11552981</td>\n      <td>11873022</td>\n      <td>12587492</td>\n      <td>13808392</td>\n      <td>14343570</td>\n      <td>15404152</td>\n      <td>14971804</td>\n    </tr>\n    <tr>\n      <th>11</th>\n      <td>경기도</td>\n      <td>135_over</td>\n      <td>11248392</td>\n      <td>10743649</td>\n      <td>10862517</td>\n      <td>11257425</td>\n      <td>11597836</td>\n      <td>12312264</td>\n      <td>12872036</td>\n      <td>13509718</td>\n      <td>13476191</td>\n    </tr>\n  </tbody>\n</table>\n</div>"
     },
     "metadata": {},
     "execution_count": 34
    }
   ],
   "source": [
    "testD = pd.read_csv('sub-data-files/region_size_avg_price_per_pyung.csv')\n",
    "testD.head(12)"
   ]
  },
  {
   "cell_type": "code",
   "execution_count": 36,
   "metadata": {},
   "outputs": [],
   "source": [
    "# 월별 지역별 사이즈별 평균 평당 가격\n",
    "def make_region_size_per_pyung_month(ym = 201208):\n",
    "    for cond in size_conditions2:\n",
    "\n",
    "        query = f\"\"\"\n",
    "            SELECT adp.region, round(AVG(adp.price_per_pyung)) AS \"{cond[0]}\"\n",
    "            FROM (SELECT A.region, (A.contract_price / (A.apt_size / 3.3)) price_per_pyung\n",
    "                  FROM apt_deal_price A\n",
    "                  WHERE to_char(A.contract_date, 'YYYYMM') = '{ym}' AND {cond[1]}) adp\n",
    "            GROUP BY adp.region\n",
    "            ORDER BY adp.region ASC\n",
    "            \"\"\"\n",
    "\n",
    "        queD = get_data_from_db(query)\n",
    "\n",
    "        if cond[0] == 'under_50':\n",
    "            dataD = queD.copy()\n",
    "        else:\n",
    "            dataD = dataD.merge(queD, how='left')\n",
    "    \n",
    "    # dataD empty 처리\n",
    "\n",
    "    dataD.fillna(0, inplace=True)\n",
    "    dataD = dataD.astype( \\\n",
    "        {'under_50':'int64', '50_60':'int64', '60_85':'int64',\n",
    "        '85_100':'int64', '100_135':'int64', '135_over':'int64'})\n",
    "    \n",
    "    # dataD.info()\n",
    "\n",
    "    dataD.set_index('REGION', inplace=True)\n",
    "    data_list = dataD.values.reshape(len(region_table1) * len(size_conditions2), )\n",
    "\n",
    "    return data_list"
   ]
  },
  {
   "cell_type": "code",
   "execution_count": 37,
   "metadata": {},
   "outputs": [],
   "source": [
    "# 월별 지역별 사이즈별 평균 평당 가격 데이터 만들기\n",
    "def complete_region_size_avg_price_per_pyung_month():\n",
    "    yyyymm = get_yyyymm()\n",
    "    col_ym = [ 'ym' + y for y in yyyymm ]\n",
    "    col_apt_size_month = ['region', 'apt_size']\n",
    "    col_apt_size_month += col_ym\n",
    "\n",
    "    # 최종 데이터 테이블 형태 만들기\n",
    "    row_count = len(region_table1) * len(size_conditions2)\n",
    "    col_count = len(col_apt_size_month)\n",
    "    allD = pd.DataFrame(np.zeros((row_count, col_count), dtype='int64'), columns=col_apt_size_month)\n",
    "\n",
    "    size_list = [ x[0] for x in size_conditions2 ]\n",
    "    allD['apt_size'] = size_list * len(region_table1)\n",
    "\n",
    "    region_list = []\n",
    "    for r in region_table1:\n",
    "        region_list.extend([r] * len(size_conditions2))\n",
    "    allD['region'] = region_list\n",
    "\n",
    "    # 년도별 데이터 수집\n",
    "    for ym in yyyymm:\n",
    "        data_list = make_region_size_per_pyung_month(ym)\n",
    "        allD['ym' + ym] = data_list\n",
    "        \n",
    "    allD.info()\n",
    "    allD.to_csv('sub-data-files/region_size_avg_price_per_pyung_month.csv', index=False, encoding='utf-8-sig')"
   ]
  },
  {
   "cell_type": "code",
   "execution_count": 19,
   "metadata": {
    "tags": []
   },
   "outputs": [],
   "source": [
    "# complete_region_size_avg_price_per_pyung_month()"
   ]
  },
  {
   "cell_type": "code",
   "execution_count": 39,
   "metadata": {},
   "outputs": [
    {
     "output_type": "execute_result",
     "data": {
      "text/plain": "   region  apt_size  ym201208  ym201209  ym201210  ym201211  ym201212  \\\n0     강원도  under_50   4100543   3831493   3749504   3873928   3737606   \n1     강원도     50_60   4728273   5033243   4992276   5113644   5237412   \n2     강원도     60_85   5917922   5619339   5654734   5634440   5596408   \n3     강원도    85_100   6161315   6335932   6578804   5530117   5502024   \n4     강원도   100_135   6243071   6183028   6017450   5996006   5928819   \n5     강원도  135_over   5966271   6510079   5605203   5755194   6093273   \n6     경기도  under_50   9680685   9917403  10258948  10290641  10012240   \n7     경기도     50_60   9599046   9936279  10281836  10052954   9861034   \n8     경기도     60_85   9555021  10057183  10340940  10364811  10439033   \n9     경기도    85_100  10756021  10659672  10505660  10642336  10084796   \n10    경기도   100_135  10639154  10914295  11004625  11073194  11350580   \n11    경기도  135_over  11760383  10441956  11277829  11476608  11447706   \n\n    ym201301  ym201302  ym201303  ...  ym201910  ym201911  ym201912  ym202001  \\\n0    4051133   4125851   3501822  ...   4609876   4507726   4878141   4839482   \n1    4998976   4990708   5196714  ...   6147934   6077098   6311076   6179900   \n2    5741708   5702146   5694701  ...   7440279   7533972   7818561   7743580   \n3    5109969   6811836   5803805  ...   9244756   7601284   7844000   7154628   \n4    5933961   5736283   5676785  ...   6646343   7331529   6740437   6876742   \n5    5642685   5910573   5704797  ...   7349712   6030985   6272126   7058540   \n6   10397915  10574241  10478348  ...  15611293  16201234  15855971  15735733   \n7   10045181  10046882  10286979  ...  16917156  17383356  17268302  16763640   \n8   10111759  10325187  10437031  ...  16594629  17355689  16389466  15575620   \n9    9846498  10480973  10367531  ...  18608551  20655231  17639727  16112025   \n10  11077321  10808173  11153617  ...  16805513  17073512  15763849  14449517   \n11  10521662  10906833  10060243  ...  14851179  14241363  13710674  12071972   \n\n    ym202002  ym202003  ym202004  ym202005  ym202006  ym202007  \n0    4811668   4842320   4779160   4757371   5144811   5051655  \n1    6206069   6134343   6256045   6416735   6957298   6646247  \n2    7781692   7772065   7471970   8151192   8636073   8380033  \n3    8538528   7811454   7690386   7502829   9096376   9367920  \n4    7307654   6896854   6951239   7070545   7399136   8027998  \n5    7314592   6609761   6511298   7027750   7101921   6601820  \n6   15706315  14860943  13938903  15445554  17624586  16810373  \n7   16273083  14742257  14369330  15403201  17636631  17731350  \n8   15103650  13815465  13353314  14577056  16785031  17091120  \n9   16189588  14371161  15306959  16819249  19746030  20571916  \n10  14302557  13225839  12617464  14365377  16705157  16754909  \n11  12700128  11831429  11797920  12907980  15352820  14761171  \n\n[12 rows x 98 columns]",
      "text/html": "<div>\n<style scoped>\n    .dataframe tbody tr th:only-of-type {\n        vertical-align: middle;\n    }\n\n    .dataframe tbody tr th {\n        vertical-align: top;\n    }\n\n    .dataframe thead th {\n        text-align: right;\n    }\n</style>\n<table border=\"1\" class=\"dataframe\">\n  <thead>\n    <tr style=\"text-align: right;\">\n      <th></th>\n      <th>region</th>\n      <th>apt_size</th>\n      <th>ym201208</th>\n      <th>ym201209</th>\n      <th>ym201210</th>\n      <th>ym201211</th>\n      <th>ym201212</th>\n      <th>ym201301</th>\n      <th>ym201302</th>\n      <th>ym201303</th>\n      <th>...</th>\n      <th>ym201910</th>\n      <th>ym201911</th>\n      <th>ym201912</th>\n      <th>ym202001</th>\n      <th>ym202002</th>\n      <th>ym202003</th>\n      <th>ym202004</th>\n      <th>ym202005</th>\n      <th>ym202006</th>\n      <th>ym202007</th>\n    </tr>\n  </thead>\n  <tbody>\n    <tr>\n      <th>0</th>\n      <td>강원도</td>\n      <td>under_50</td>\n      <td>4100543</td>\n      <td>3831493</td>\n      <td>3749504</td>\n      <td>3873928</td>\n      <td>3737606</td>\n      <td>4051133</td>\n      <td>4125851</td>\n      <td>3501822</td>\n      <td>...</td>\n      <td>4609876</td>\n      <td>4507726</td>\n      <td>4878141</td>\n      <td>4839482</td>\n      <td>4811668</td>\n      <td>4842320</td>\n      <td>4779160</td>\n      <td>4757371</td>\n      <td>5144811</td>\n      <td>5051655</td>\n    </tr>\n    <tr>\n      <th>1</th>\n      <td>강원도</td>\n      <td>50_60</td>\n      <td>4728273</td>\n      <td>5033243</td>\n      <td>4992276</td>\n      <td>5113644</td>\n      <td>5237412</td>\n      <td>4998976</td>\n      <td>4990708</td>\n      <td>5196714</td>\n      <td>...</td>\n      <td>6147934</td>\n      <td>6077098</td>\n      <td>6311076</td>\n      <td>6179900</td>\n      <td>6206069</td>\n      <td>6134343</td>\n      <td>6256045</td>\n      <td>6416735</td>\n      <td>6957298</td>\n      <td>6646247</td>\n    </tr>\n    <tr>\n      <th>2</th>\n      <td>강원도</td>\n      <td>60_85</td>\n      <td>5917922</td>\n      <td>5619339</td>\n      <td>5654734</td>\n      <td>5634440</td>\n      <td>5596408</td>\n      <td>5741708</td>\n      <td>5702146</td>\n      <td>5694701</td>\n      <td>...</td>\n      <td>7440279</td>\n      <td>7533972</td>\n      <td>7818561</td>\n      <td>7743580</td>\n      <td>7781692</td>\n      <td>7772065</td>\n      <td>7471970</td>\n      <td>8151192</td>\n      <td>8636073</td>\n      <td>8380033</td>\n    </tr>\n    <tr>\n      <th>3</th>\n      <td>강원도</td>\n      <td>85_100</td>\n      <td>6161315</td>\n      <td>6335932</td>\n      <td>6578804</td>\n      <td>5530117</td>\n      <td>5502024</td>\n      <td>5109969</td>\n      <td>6811836</td>\n      <td>5803805</td>\n      <td>...</td>\n      <td>9244756</td>\n      <td>7601284</td>\n      <td>7844000</td>\n      <td>7154628</td>\n      <td>8538528</td>\n      <td>7811454</td>\n      <td>7690386</td>\n      <td>7502829</td>\n      <td>9096376</td>\n      <td>9367920</td>\n    </tr>\n    <tr>\n      <th>4</th>\n      <td>강원도</td>\n      <td>100_135</td>\n      <td>6243071</td>\n      <td>6183028</td>\n      <td>6017450</td>\n      <td>5996006</td>\n      <td>5928819</td>\n      <td>5933961</td>\n      <td>5736283</td>\n      <td>5676785</td>\n      <td>...</td>\n      <td>6646343</td>\n      <td>7331529</td>\n      <td>6740437</td>\n      <td>6876742</td>\n      <td>7307654</td>\n      <td>6896854</td>\n      <td>6951239</td>\n      <td>7070545</td>\n      <td>7399136</td>\n      <td>8027998</td>\n    </tr>\n    <tr>\n      <th>5</th>\n      <td>강원도</td>\n      <td>135_over</td>\n      <td>5966271</td>\n      <td>6510079</td>\n      <td>5605203</td>\n      <td>5755194</td>\n      <td>6093273</td>\n      <td>5642685</td>\n      <td>5910573</td>\n      <td>5704797</td>\n      <td>...</td>\n      <td>7349712</td>\n      <td>6030985</td>\n      <td>6272126</td>\n      <td>7058540</td>\n      <td>7314592</td>\n      <td>6609761</td>\n      <td>6511298</td>\n      <td>7027750</td>\n      <td>7101921</td>\n      <td>6601820</td>\n    </tr>\n    <tr>\n      <th>6</th>\n      <td>경기도</td>\n      <td>under_50</td>\n      <td>9680685</td>\n      <td>9917403</td>\n      <td>10258948</td>\n      <td>10290641</td>\n      <td>10012240</td>\n      <td>10397915</td>\n      <td>10574241</td>\n      <td>10478348</td>\n      <td>...</td>\n      <td>15611293</td>\n      <td>16201234</td>\n      <td>15855971</td>\n      <td>15735733</td>\n      <td>15706315</td>\n      <td>14860943</td>\n      <td>13938903</td>\n      <td>15445554</td>\n      <td>17624586</td>\n      <td>16810373</td>\n    </tr>\n    <tr>\n      <th>7</th>\n      <td>경기도</td>\n      <td>50_60</td>\n      <td>9599046</td>\n      <td>9936279</td>\n      <td>10281836</td>\n      <td>10052954</td>\n      <td>9861034</td>\n      <td>10045181</td>\n      <td>10046882</td>\n      <td>10286979</td>\n      <td>...</td>\n      <td>16917156</td>\n      <td>17383356</td>\n      <td>17268302</td>\n      <td>16763640</td>\n      <td>16273083</td>\n      <td>14742257</td>\n      <td>14369330</td>\n      <td>15403201</td>\n      <td>17636631</td>\n      <td>17731350</td>\n    </tr>\n    <tr>\n      <th>8</th>\n      <td>경기도</td>\n      <td>60_85</td>\n      <td>9555021</td>\n      <td>10057183</td>\n      <td>10340940</td>\n      <td>10364811</td>\n      <td>10439033</td>\n      <td>10111759</td>\n      <td>10325187</td>\n      <td>10437031</td>\n      <td>...</td>\n      <td>16594629</td>\n      <td>17355689</td>\n      <td>16389466</td>\n      <td>15575620</td>\n      <td>15103650</td>\n      <td>13815465</td>\n      <td>13353314</td>\n      <td>14577056</td>\n      <td>16785031</td>\n      <td>17091120</td>\n    </tr>\n    <tr>\n      <th>9</th>\n      <td>경기도</td>\n      <td>85_100</td>\n      <td>10756021</td>\n      <td>10659672</td>\n      <td>10505660</td>\n      <td>10642336</td>\n      <td>10084796</td>\n      <td>9846498</td>\n      <td>10480973</td>\n      <td>10367531</td>\n      <td>...</td>\n      <td>18608551</td>\n      <td>20655231</td>\n      <td>17639727</td>\n      <td>16112025</td>\n      <td>16189588</td>\n      <td>14371161</td>\n      <td>15306959</td>\n      <td>16819249</td>\n      <td>19746030</td>\n      <td>20571916</td>\n    </tr>\n    <tr>\n      <th>10</th>\n      <td>경기도</td>\n      <td>100_135</td>\n      <td>10639154</td>\n      <td>10914295</td>\n      <td>11004625</td>\n      <td>11073194</td>\n      <td>11350580</td>\n      <td>11077321</td>\n      <td>10808173</td>\n      <td>11153617</td>\n      <td>...</td>\n      <td>16805513</td>\n      <td>17073512</td>\n      <td>15763849</td>\n      <td>14449517</td>\n      <td>14302557</td>\n      <td>13225839</td>\n      <td>12617464</td>\n      <td>14365377</td>\n      <td>16705157</td>\n      <td>16754909</td>\n    </tr>\n    <tr>\n      <th>11</th>\n      <td>경기도</td>\n      <td>135_over</td>\n      <td>11760383</td>\n      <td>10441956</td>\n      <td>11277829</td>\n      <td>11476608</td>\n      <td>11447706</td>\n      <td>10521662</td>\n      <td>10906833</td>\n      <td>10060243</td>\n      <td>...</td>\n      <td>14851179</td>\n      <td>14241363</td>\n      <td>13710674</td>\n      <td>12071972</td>\n      <td>12700128</td>\n      <td>11831429</td>\n      <td>11797920</td>\n      <td>12907980</td>\n      <td>15352820</td>\n      <td>14761171</td>\n    </tr>\n  </tbody>\n</table>\n<p>12 rows × 98 columns</p>\n</div>"
     },
     "metadata": {},
     "execution_count": 39
    }
   ],
   "source": [
    "testD = pd.read_csv('sub-data-files/region_size_avg_price_per_pyung_month.csv')\n",
    "testD.head(12)"
   ]
  },
  {
   "cell_type": "code",
   "execution_count": null,
   "metadata": {},
   "outputs": [],
   "source": []
  }
 ]
}